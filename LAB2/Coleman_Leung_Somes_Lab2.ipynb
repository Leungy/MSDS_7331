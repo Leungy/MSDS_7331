{
 "cells": [
  {
   "cell_type": "markdown",
   "metadata": {},
   "source": [
    "# Lab 2: Classification\n",
    "\n",
    "- Name 1: Jasmine Coleman\n",
    "- Name 2: Yat Leung\n",
    "- Name 3: Karen Somes"
   ]
  },
  {
   "cell_type": "markdown",
   "metadata": {},
   "source": [
    "__Data Cleaning:__  \n",
    "First, we removed variables with high correlation, repetitive values, and attributes with a high number of missing values to narrow our focus of predictors and then we performed data transformations to aid our analysis."
   ]
  },
  {
   "cell_type": "code",
   "execution_count": 1,
   "metadata": {},
   "outputs": [
    {
     "name": "stderr",
     "output_type": "stream",
     "text": [
      "C:\\Users\\jazis\\AppData\\Local\\Continuum\\anaconda3\\lib\\site-packages\\IPython\\core\\interactiveshell.py:3049: DtypeWarning: Columns (61,62,94,95) have mixed types. Specify dtype option on import or set low_memory=False.\n",
      "  interactivity=interactivity, compiler=compiler, result=result)\n"
     ]
    }
   ],
   "source": [
    "import pandas as pd\n",
    "import numpy as np\n",
    "from decimal import Decimal\n",
    "import seaborn as sns\n",
    "from sklearn.linear_model import LogisticRegression\n",
    "from sklearn.model_selection import train_test_split\n",
    "from sklearn.metrics import confusion_matrix\n",
    " \n",
    "data = pd.read_csv(\"/Users/jazis/Downloads/listings.csv\")\n",
    "\n",
    "#data cleaning from LAB1\n",
    "#drop redundant info and fields not useful for analysis\n",
    "sub=data.drop(['id','listing_url','scrape_id','last_scraped','summary','space','description','experiences_offered'\n",
    "              , 'neighborhood_overview', 'notes', 'transit', 'access', 'interaction', 'house_rules',\n",
    "              'thumbnail_url', 'medium_url', 'picture_url', 'xl_picture_url', 'host_url', 'host_thumbnail_url',\n",
    "              'host_picture_url', 'country_code', 'country','amenities', 'minimum_minimum_nights',\n",
    "              'maximum_minimum_nights','minimum_maximum_nights', 'maximum_maximum_nights','minimum_nights_avg_ntm',\n",
    "              'maximum_nights_avg_ntm', 'availability_30', 'availability_365','availability_90','has_availability',\n",
    "               'calculated_host_listings_count','calculated_host_listings_count_shared_rooms',\n",
    "               'is_business_travel_ready','host_about', 'host_acceptance_rate', 'host_total_listings_count',\n",
    "              'jurisdiction_names','license','monthly_price','square_feet','weekly_price', 'requires_license'], axis=1)\n",
    "def money_to_decimal(x):\n",
    "    x = x.replace(\"$\", \"\").replace(\",\", \"\").replace(\" \", \"\")\n",
    "    return float(x)\n",
    "def rem_percent(x):\n",
    "    x=x.replace(\"%\",\"\")\n",
    "    return float(x)/100\n",
    "def truncate(n):\n",
    "    return int(n * 1000) / 1000\n",
    "#converts objects with money values into decimal values to become continous attribute\n",
    "sub.cleaning_fee = sub.cleaning_fee.astype(str)\n",
    "sub.extra_people = sub.extra_people.astype(str)\n",
    "sub.security_deposit = sub.security_deposit.astype(str)\n",
    "sub.price = sub.price.astype(str)\n",
    "sub.loc[:,'price'] = sub.loc[:,'price'].apply(money_to_decimal)\n",
    "sub.loc[:,'cleaning_fee'] = sub.loc[:,'cleaning_fee'].apply(money_to_decimal)\n",
    "sub.loc[:,'extra_people'] = sub.loc[:,'extra_people'].apply(money_to_decimal)\n",
    "sub.loc[:,'security_deposit'] = sub.loc[:,'security_deposit'].apply(money_to_decimal)\n",
    "sub.host_response_rate = sub.host_response_rate.astype(str)\n",
    "sub.loc[:,'host_response_rate'] = sub.loc[:, 'host_response_rate'].apply(rem_percent)"
   ]
  },
  {
   "cell_type": "markdown",
   "metadata": {},
   "source": [
    "__Creating dummy variables classification__\n",
    "\n",
    "We created dummy variables for the categorical variables that we would include in the model. We iteratively determined which categorical variables to include by checking the accuracy of each interim model when removing terms."
   ]
  },
  {
   "cell_type": "code",
   "execution_count": 2,
   "metadata": {
    "scrolled": true
   },
   "outputs": [
    {
     "name": "stderr",
     "output_type": "stream",
     "text": [
      "C:\\Users\\jazis\\AppData\\Local\\Continuum\\anaconda3\\lib\\site-packages\\ipykernel_launcher.py:3: SettingWithCopyWarning: \n",
      "A value is trying to be set on a copy of a slice from a DataFrame.\n",
      "Try using .loc[row_indexer,col_indexer] = value instead\n",
      "\n",
      "See the caveats in the documentation: http://pandas.pydata.org/pandas-docs/stable/indexing.html#indexing-view-versus-copy\n",
      "  This is separate from the ipykernel package so we can avoid doing imports until\n",
      "C:\\Users\\jazis\\AppData\\Local\\Continuum\\anaconda3\\lib\\site-packages\\ipykernel_launcher.py:13: SettingWithCopyWarning: \n",
      "A value is trying to be set on a copy of a slice from a DataFrame.\n",
      "Try using .loc[row_indexer,col_indexer] = value instead\n",
      "\n",
      "See the caveats in the documentation: http://pandas.pydata.org/pandas-docs/stable/indexing.html#indexing-view-versus-copy\n",
      "  del sys.path[0]\n",
      "C:\\Users\\jazis\\AppData\\Local\\Continuum\\anaconda3\\lib\\site-packages\\ipykernel_launcher.py:19: SettingWithCopyWarning: \n",
      "A value is trying to be set on a copy of a slice from a DataFrame.\n",
      "Try using .loc[row_indexer,col_indexer] = value instead\n",
      "\n",
      "See the caveats in the documentation: http://pandas.pydata.org/pandas-docs/stable/indexing.html#indexing-view-versus-copy\n",
      "C:\\Users\\jazis\\AppData\\Local\\Continuum\\anaconda3\\lib\\site-packages\\ipykernel_launcher.py:23: SettingWithCopyWarning: \n",
      "A value is trying to be set on a copy of a slice from a DataFrame.\n",
      "Try using .loc[row_indexer,col_indexer] = value instead\n",
      "\n",
      "See the caveats in the documentation: http://pandas.pydata.org/pandas-docs/stable/indexing.html#indexing-view-versus-copy\n",
      "C:\\Users\\jazis\\AppData\\Local\\Continuum\\anaconda3\\lib\\site-packages\\ipykernel_launcher.py:25: SettingWithCopyWarning: \n",
      "A value is trying to be set on a copy of a slice from a DataFrame.\n",
      "Try using .loc[row_indexer,col_indexer] = value instead\n",
      "\n",
      "See the caveats in the documentation: http://pandas.pydata.org/pandas-docs/stable/indexing.html#indexing-view-versus-copy\n",
      "C:\\Users\\jazis\\AppData\\Local\\Continuum\\anaconda3\\lib\\site-packages\\pandas\\core\\frame.py:3940: SettingWithCopyWarning: \n",
      "A value is trying to be set on a copy of a slice from a DataFrame\n",
      "\n",
      "See the caveats in the documentation: http://pandas.pydata.org/pandas-docs/stable/indexing.html#indexing-view-versus-copy\n",
      "  errors=errors)\n"
     ]
    }
   ],
   "source": [
    "#Creating target variable for host review scores\n",
    "df = sub[~sub['review_scores_rating'].isnull()]\n",
    "df['score_levels'] = np.where(((df['review_scores_rating']>=0) & (df['review_scores_rating']<33)), 0, (np.where(((df['review_scores_rating']>=33) & (df['review_scores_rating']<67)), 1,2)))\n",
    "\n",
    "df_data=df\n",
    "df_y=df['score_levels']\n",
    "\n",
    "#create dummy vars\n",
    "##host_loc = pd.get_dummies(df_data['host_location'],drop_first=True)\n",
    "host_response = pd.get_dummies(df_data['host_response_time'],drop_first=True)\n",
    "##host_neigh = pd.get_dummies(df_data['neighbourhood_group_cleansed'],drop_first=True)\n",
    "##host_verif = pd.get_dummies(df_data['host_verifications'],drop_first=True)\n",
    "df_data['host_identity_verified'] = pd.get_dummies(df_data['host_identity_verified'],drop_first=True)\n",
    "##street = pd.get_dummies(df_data['street'],drop_first=True)\n",
    "neighborhood = pd.get_dummies(df_data['neighbourhood_group_cleansed'],drop_first=True)\n",
    "##city = pd.get_dummies(df_data['city'],drop_first=True)\n",
    "# make into continuous zipcode = pd.get_dummies(x_train['zipcode'],drop_first=True)\n",
    "##market = pd.get_dummies(df_data['market'],drop_first=True)\n",
    "df_data['is_location_exact'] = pd.get_dummies(df_data['is_location_exact'],drop_first=True)\n",
    "prop_type = pd.get_dummies(df_data['property_type'],drop_first=True)\n",
    "room_type = pd.get_dummies(df_data['room_type'],drop_first=True)\n",
    "bed_type = pd.get_dummies(df_data['bed_type'],drop_first=True)\n",
    "df_data['instant_bookable'] = pd.get_dummies(df_data['instant_bookable'],drop_first=True)\n",
    "cancel = pd.get_dummies(df_data['cancellation_policy'],drop_first=True)\n",
    "df_data['host_is_superhost'] = pd.get_dummies(df_data['host_is_superhost'],drop_first=True)\n",
    "\n",
    "df_data.drop(['host_location','host_response_time','host_neighbourhood','host_verifications',\n",
    "             'street', 'neighbourhood', 'city', 'market', \n",
    "             'property_type', 'room_type', 'bed_type', 'instant_bookable',\n",
    "             'cancellation_policy', 'name', 'host_name', 'host_has_profile_pic', 'neighbourhood_cleansed',\n",
    "              'neighbourhood_group_cleansed', 'host_neighbourhood', 'smart_location', 'calendar_updated',\n",
    "             'calendar_last_scraped','require_guest_profile_picture', 'require_guest_phone_verification',\n",
    "             'host_since', 'first_review', 'last_review', 'state', 'smart_location', 'zipcode','review_scores_rating'],axis=1,inplace=True)\n",
    "\n",
    "df_data = pd.concat([df_data, host_response, prop_type, room_type,\n",
    "                    bed_type, cancel, neighborhood],axis=1)\n",
    "\n",
    "    "
   ]
  },
  {
   "cell_type": "markdown",
   "metadata": {},
   "source": [
    "__Final dataset:__ \n",
    "\n",
    "We created a new target variable for our classification task, \"score_levels\", to categorize a host's score to represent categories of \"high\", \"medium\", and \"low.\" A score below 33 is low, a score between 33 and 67 is medium, and 67+ is high. The variables in the final dataset are listed below, used for both regression and classification."
   ]
  },
  {
   "cell_type": "code",
   "execution_count": 3,
   "metadata": {
    "scrolled": true
   },
   "outputs": [
    {
     "name": "stdout",
     "output_type": "stream",
     "text": [
      "Index(['host_id', 'host_response_rate', 'host_is_superhost',\n",
      "       'host_listings_count', 'host_identity_verified', 'latitude',\n",
      "       'longitude', 'is_location_exact', 'accommodates', 'bathrooms',\n",
      "       'bedrooms', 'beds', 'price', 'security_deposit', 'cleaning_fee',\n",
      "       'guests_included', 'extra_people', 'minimum_nights', 'maximum_nights',\n",
      "       'availability_60', 'number_of_reviews', 'number_of_reviews_ltm',\n",
      "       'review_scores_accuracy', 'review_scores_cleanliness',\n",
      "       'review_scores_checkin', 'review_scores_communication',\n",
      "       'review_scores_location', 'review_scores_value',\n",
      "       'calculated_host_listings_count_entire_homes',\n",
      "       'calculated_host_listings_count_private_rooms', 'reviews_per_month',\n",
      "       'score_levels', 'within a day', 'within a few hours', 'within an hour',\n",
      "       'Apartment', 'Bed and breakfast', 'Boat', 'Boutique hotel', 'Bungalow',\n",
      "       'Cabin', 'Camper/RV', 'Casa particular (Cuba)', 'Castle', 'Cave',\n",
      "       'Condominium', 'Cottage', 'Dome house', 'Earth house', 'Guest suite',\n",
      "       'Guesthouse', 'Hostel', 'Hotel', 'House', 'Houseboat', 'Lighthouse',\n",
      "       'Loft', 'Nature lodge', 'Other', 'Resort', 'Serviced apartment', 'Tent',\n",
      "       'Tiny house', 'Townhouse', 'Treehouse', 'Villa', 'Private room',\n",
      "       'Shared room', 'Couch', 'Futon', 'Pull-out Sofa', 'Real Bed',\n",
      "       'moderate', 'strict', 'strict_14_with_grace_period', 'super_strict_30',\n",
      "       'super_strict_60', 'Brooklyn', 'Manhattan', 'Queens', 'Staten Island'],\n",
      "      dtype='object')\n"
     ]
    }
   ],
   "source": [
    "#df_data.head()\n",
    "print(df_data.columns)"
   ]
  },
  {
   "cell_type": "markdown",
   "metadata": {},
   "source": [
    "## Regression task: Predicting price of AirBnb listing\n",
    "\n",
    "__Evaluation metrics:__ \n",
    "\n",
    " - To assess the fit of the various models used to predict listing price, we will use mean squared error to validate model performance. This is a comparable metrics across all models since it measures the distance of errors from cross validation, and distance will be in the same scale across models.\n",
    "\n",
    "__Training and testing sets:__ \n",
    "\n",
    " - We used random sampling to divide the test and training sets. This technique allows for the samples to mimic the population distribution. Since our test sets are quite large, the test and training sets are likely to include the desired classes.\n",
    "\n",
    "__Models:__ \n",
    "\n",
    " - We will be using linear regression, KNN, and PCA to model the listing price of AirBnbs.\n",
    "\n",
    "### Linear Regression:\n",
    "\n",
    " - To avoid overfitting, we used the K-best algorithm to identify the 10 terms with the highest F-statistics. This approach ensures that relevant terms are included in the model. Those terms were then fitted to price using linear regression."
   ]
  },
  {
   "cell_type": "code",
   "execution_count": 4,
   "metadata": {},
   "outputs": [],
   "source": [
    "df = pd.get_dummies(df)\n",
    "train , test = train_test_split(df, test_size = 0.2)\n",
    "\n",
    "x_train = train.drop('price', axis=1)\n",
    "y_train = train['price']\n",
    "\n",
    "x_test = test.drop('price', axis = 1)\n",
    "y_test = test['price']\n"
   ]
  },
  {
   "cell_type": "code",
   "execution_count": 5,
   "metadata": {},
   "outputs": [],
   "source": [
    "#imputations - training\n",
    "x_train.cleaning_fee=x_train.cleaning_fee.fillna(x_train.cleaning_fee.median())\n",
    "x_train.host_response_rate=x_train.host_response_rate.fillna(x_train.host_response_rate.median())\n",
    "x_train.review_scores_accuracy=x_train.review_scores_accuracy.fillna(truncate(x_train.review_scores_accuracy.median()))\n",
    "x_train.review_scores_checkin=x_train.review_scores_checkin.fillna(truncate(x_train.review_scores_checkin.median()))\n",
    "x_train.review_scores_cleanliness=x_train.review_scores_cleanliness.fillna(truncate(x_train.review_scores_cleanliness.median()))\n",
    "x_train.review_scores_communication=x_train.review_scores_communication.fillna(truncate(x_train.review_scores_communication.median()))\n",
    "x_train.review_scores_location=x_train.review_scores_location.fillna(truncate(x_train.review_scores_location.median()))\n",
    "#sub.review_scores_rating=sub.review_scores_rating.fillna(truncate(sub.review_scores_rating.median()))\n",
    "x_train.review_scores_value=x_train.review_scores_value.fillna(truncate(x_train.review_scores_value.median()))\n",
    "x_train.reviews_per_month=x_train.reviews_per_month.fillna(x_train.reviews_per_month.median())\n",
    "x_train.security_deposit=x_train.security_deposit.fillna(x_train.security_deposit.median())\n",
    "x_train.bathrooms=x_train.bathrooms.fillna(x_train.bathrooms.median())\n",
    "x_train.bedrooms=x_train.bedrooms.fillna(x_train.bedrooms.median())\n",
    "x_train.host_listings_count=x_train.host_listings_count.fillna(x_train.host_listings_count.median())\n",
    "x_train.beds=x_train.beds.fillna(x_train.beds.median())\n",
    "#sub.host_response_time=sub.host_response_time.fillna('missing')"
   ]
  },
  {
   "cell_type": "code",
   "execution_count": 6,
   "metadata": {},
   "outputs": [],
   "source": [
    "#imputations - test\n",
    "x_test.cleaning_fee=x_test.cleaning_fee.fillna(x_train.cleaning_fee.median())\n",
    "x_test.host_response_rate=x_test.host_response_rate.fillna(x_train.host_response_rate.median())\n",
    "x_test.review_scores_accuracy=x_test.review_scores_accuracy.fillna(truncate(x_train.review_scores_accuracy.median()))\n",
    "x_test.review_scores_checkin=x_test.review_scores_checkin.fillna(truncate(x_train.review_scores_checkin.median()))\n",
    "x_test.review_scores_cleanliness=x_test.review_scores_cleanliness.fillna(truncate(x_train.review_scores_cleanliness.median()))\n",
    "x_test.review_scores_communication=x_test.review_scores_communication.fillna(truncate(x_train.review_scores_communication.median()))\n",
    "x_test.review_scores_location=x_test.review_scores_location.fillna(truncate(x_train.review_scores_location.median()))\n",
    "#sub.review_scores_rating=sub.review_scores_rating.fillna(truncate(sub.review_scores_rating.median()))\n",
    "x_test.review_scores_value=x_test.review_scores_value.fillna(truncate(x_train.review_scores_value.median()))\n",
    "x_test.reviews_per_month=x_test.reviews_per_month.fillna(x_train.reviews_per_month.median())\n",
    "x_test.security_deposit=x_test.security_deposit.fillna(x_train.security_deposit.median())\n",
    "x_test.bathrooms=x_test.bathrooms.fillna(x_train.bathrooms.median())\n",
    "x_test.bedrooms=x_test.bedrooms.fillna(x_train.bedrooms.median())\n",
    "x_test.host_listings_count=x_test.host_listings_count.fillna(x_train.host_listings_count.median())\n",
    "x_test.beds=x_test.beds.fillna(x_train.beds.median())\n",
    "#sub.host_response_time=sub.host_response_time.fillna('missing')"
   ]
  },
  {
   "cell_type": "code",
   "execution_count": 7,
   "metadata": {},
   "outputs": [
    {
     "name": "stderr",
     "output_type": "stream",
     "text": [
      "C:\\Users\\jazis\\AppData\\Local\\Continuum\\anaconda3\\lib\\site-packages\\sklearn\\preprocessing\\data.py:334: DataConversionWarning: Data with input dtype uint8, int32, int64, float64 were all converted to float64 by MinMaxScaler.\n",
      "  return self.partial_fit(X, y)\n",
      "C:\\Users\\jazis\\AppData\\Local\\Continuum\\anaconda3\\lib\\site-packages\\sklearn\\preprocessing\\data.py:334: DataConversionWarning: Data with input dtype uint8, int32, int64, float64 were all converted to float64 by MinMaxScaler.\n",
      "  return self.partial_fit(X, y)\n"
     ]
    }
   ],
   "source": [
    "from sklearn.preprocessing import MinMaxScaler\n",
    "scaler = MinMaxScaler(feature_range=(0, 1))\n",
    "\n",
    "x_train_scaled = scaler.fit_transform(x_train)\n",
    "x_train = pd.DataFrame(x_train_scaled)\n",
    "\n",
    "x_test_scaled = scaler.fit_transform(x_test)\n",
    "x_test = pd.DataFrame(x_test_scaled)\n",
    "\n",
    "###would need to add imputations"
   ]
  },
  {
   "cell_type": "code",
   "execution_count": 8,
   "metadata": {},
   "outputs": [],
   "source": [
    "#import required packages\n",
    "from sklearn import neighbors\n",
    "from sklearn.linear_model import LinearRegression\n",
    "from sklearn import feature_selection\n",
    "from sklearn.metrics import mean_squared_error \n",
    "from sklearn import metrics\n",
    "from math import sqrt\n",
    "import matplotlib.pyplot as plt\n",
    "#%matplotlib inline\n"
   ]
  },
  {
   "cell_type": "code",
   "execution_count": 9,
   "metadata": {},
   "outputs": [],
   "source": [
    "model = feature_selection.SelectKBest(score_func=feature_selection.f_regression,\\\n",
    "                                      k=10).fit(x_train,y_train)\n",
    "\n",
    "results = model.transform(x_train) # not needed to get the score\n",
    "\n",
    "\n",
    "#results = model.fit_transform(x_train, y_train)\n"
   ]
  },
  {
   "cell_type": "code",
   "execution_count": 10,
   "metadata": {},
   "outputs": [
    {
     "data": {
      "text/plain": [
       "Index(['longitude', 'accommodates', 'bathrooms', 'bedrooms', 'beds', 'price',\n",
       "       'security_deposit', 'cleaning_fee', 'maximum_nights',\n",
       "       'review_scores_communication'],\n",
       "      dtype='object')"
      ]
     },
     "execution_count": 10,
     "metadata": {},
     "output_type": "execute_result"
    }
   ],
   "source": [
    "cols = model.get_support(indices=True) \n",
    "df.columns[cols]"
   ]
  },
  {
   "cell_type": "code",
   "execution_count": 11,
   "metadata": {},
   "outputs": [
    {
     "data": {
      "text/html": [
       "<div>\n",
       "<style scoped>\n",
       "    .dataframe tbody tr th:only-of-type {\n",
       "        vertical-align: middle;\n",
       "    }\n",
       "\n",
       "    .dataframe tbody tr th {\n",
       "        vertical-align: top;\n",
       "    }\n",
       "\n",
       "    .dataframe thead th {\n",
       "        text-align: right;\n",
       "    }\n",
       "</style>\n",
       "<table border=\"1\" class=\"dataframe\">\n",
       "  <thead>\n",
       "    <tr style=\"text-align: right;\">\n",
       "      <th></th>\n",
       "      <th>F Score</th>\n",
       "      <th>P Value</th>\n",
       "      <th>Support</th>\n",
       "    </tr>\n",
       "  </thead>\n",
       "  <tbody>\n",
       "    <tr>\n",
       "      <th>6</th>\n",
       "      <td>690.118654</td>\n",
       "      <td>2.068504e-150</td>\n",
       "      <td>True</td>\n",
       "    </tr>\n",
       "    <tr>\n",
       "      <th>8</th>\n",
       "      <td>3939.959260</td>\n",
       "      <td>0.000000e+00</td>\n",
       "      <td>True</td>\n",
       "    </tr>\n",
       "    <tr>\n",
       "      <th>9</th>\n",
       "      <td>1270.678639</td>\n",
       "      <td>1.202371e-272</td>\n",
       "      <td>True</td>\n",
       "    </tr>\n",
       "    <tr>\n",
       "      <th>10</th>\n",
       "      <td>2210.063149</td>\n",
       "      <td>0.000000e+00</td>\n",
       "      <td>True</td>\n",
       "    </tr>\n",
       "    <tr>\n",
       "      <th>11</th>\n",
       "      <td>2166.406057</td>\n",
       "      <td>0.000000e+00</td>\n",
       "      <td>True</td>\n",
       "    </tr>\n",
       "    <tr>\n",
       "      <th>12</th>\n",
       "      <td>1250.611859</td>\n",
       "      <td>1.845973e-268</td>\n",
       "      <td>True</td>\n",
       "    </tr>\n",
       "    <tr>\n",
       "      <th>13</th>\n",
       "      <td>4065.798309</td>\n",
       "      <td>0.000000e+00</td>\n",
       "      <td>True</td>\n",
       "    </tr>\n",
       "    <tr>\n",
       "      <th>14</th>\n",
       "      <td>1449.406600</td>\n",
       "      <td>8.213255e-310</td>\n",
       "      <td>True</td>\n",
       "    </tr>\n",
       "    <tr>\n",
       "      <th>18</th>\n",
       "      <td>172.963577</td>\n",
       "      <td>2.139361e-39</td>\n",
       "      <td>True</td>\n",
       "    </tr>\n",
       "    <tr>\n",
       "      <th>25</th>\n",
       "      <td>165.708461</td>\n",
       "      <td>8.055194e-38</td>\n",
       "      <td>True</td>\n",
       "    </tr>\n",
       "  </tbody>\n",
       "</table>\n",
       "</div>"
      ],
      "text/plain": [
       "        F Score        P Value  Support\n",
       "6    690.118654  2.068504e-150     True\n",
       "8   3939.959260   0.000000e+00     True\n",
       "9   1270.678639  1.202371e-272     True\n",
       "10  2210.063149   0.000000e+00     True\n",
       "11  2166.406057   0.000000e+00     True\n",
       "12  1250.611859  1.845973e-268     True\n",
       "13  4065.798309   0.000000e+00     True\n",
       "14  1449.406600  8.213255e-310     True\n",
       "18   172.963577   2.139361e-39     True\n",
       "25   165.708461   8.055194e-38     True"
      ]
     },
     "execution_count": 11,
     "metadata": {},
     "output_type": "execute_result"
    }
   ],
   "source": [
    "feat_scores = pd.DataFrame()\n",
    "feat_scores[\"F Score\"] = model.scores_\n",
    "feat_scores[\"P Value\"] = model.pvalues_\n",
    "feat_scores[\"Support\"] = model.get_support()\n",
    "feat_scores[feat_scores['Support'] == 1]"
   ]
  },
  {
   "cell_type": "code",
   "execution_count": 14,
   "metadata": {},
   "outputs": [
    {
     "name": "stdout",
     "output_type": "stream",
     "text": [
      "[-247.12182894  458.0862386   593.3061174   139.39594941 -332.45128718\n",
      "  212.28529393  680.28415508   -7.14226874   35.36569424   98.9085268 ]\n"
     ]
    }
   ],
   "source": [
    "lm = LinearRegression()\n",
    "x_10 = pd.DataFrame(x_train[cols])\n",
    "lm.fit(x_10, y_train)\n",
    "print(lm.coef_)"
   ]
  },
  {
   "cell_type": "markdown",
   "metadata": {},
   "source": [
    "__Results:__\n",
    "\n",
    " - The scatter plots below show how individual key predictors are associated with the listing price of the AirBnb, to show the strength of the relationship. These graphs in particular show how listings that have accommodations considerably different from the others (large number of beds, bathrooms) affect the relationship of the predictor with the listing price.\n",
    " \n",
    " - The scatter plot that shows the accuracy of predicted values shows that the linear regression model greatly underestimates the value of airbnbs.\n",
    " \n",
    " - The residual plot shows that the model has difficultly accounting for extreme values."
   ]
  },
  {
   "cell_type": "code",
   "execution_count": 15,
   "metadata": {},
   "outputs": [
    {
     "data": {
      "image/png": "[encoded data removed]",
      "text/plain": [
       "<Figure size 432x288 with 1 Axes>"
      ]
     },
     "metadata": {
      "needs_background": "light"
     },
     "output_type": "display_data"
    }
   ],
   "source": [
    "plt.scatter(df['security_deposit'], df.price)\n",
    "plt.xlabel(\"security deposit\")\n",
    "plt.ylabel(\"price\")\n",
    "plt.title(\"security deposit vs price\")\n",
    "plt.show()\n"
   ]
  },
  {
   "cell_type": "code",
   "execution_count": 16,
   "metadata": {},
   "outputs": [
    {
     "data": {
      "image/png": "[encoded data removed]",
      "text/plain": [
       "<Figure size 432x288 with 1 Axes>"
      ]
     },
     "metadata": {
      "needs_background": "light"
     },
     "output_type": "display_data"
    }
   ],
   "source": [
    "plt.scatter(df['accommodates'], df.price)\n",
    "plt.xlabel(\"accommodates\")\n",
    "plt.ylabel(\"price\")\n",
    "plt.title(\"accommodates vs price\")\n",
    "plt.show()"
   ]
  },
  {
   "cell_type": "code",
   "execution_count": 17,
   "metadata": {},
   "outputs": [
    {
     "data": {
      "image/png": "[encoded data removed]",
      "text/plain": [
       "<Figure size 432x288 with 1 Axes>"
      ]
     },
     "metadata": {
      "needs_background": "light"
     },
     "output_type": "display_data"
    }
   ],
   "source": [
    "plt.scatter(df['bathrooms'], df.price)\n",
    "plt.xlabel(\"bathrooms\")\n",
    "plt.ylabel(\"price\")\n",
    "plt.title(\"bathrooms vs price\")\n",
    "plt.show()"
   ]
  },
  {
   "cell_type": "code",
   "execution_count": 18,
   "metadata": {},
   "outputs": [
    {
     "data": {
      "image/png": "[encoded data removed]",
      "text/plain": [
       "<Figure size 432x288 with 1 Axes>"
      ]
     },
     "metadata": {
      "needs_background": "light"
     },
     "output_type": "display_data"
    }
   ],
   "source": [
    "plt.scatter(df['beds'], df.price)\n",
    "plt.xlabel(\"beds\")\n",
    "plt.ylabel(\"price\")\n",
    "plt.title(\"beds vs price\")\n",
    "plt.show()"
   ]
  },
  {
   "cell_type": "code",
   "execution_count": 19,
   "metadata": {},
   "outputs": [
    {
     "data": {
      "text/plain": [
       "<function matplotlib.pyplot.show(*args, **kw)>"
      ]
     },
     "execution_count": 19,
     "metadata": {},
     "output_type": "execute_result"
    },
    {
     "data": {
      "image/png": "[encoded data removed]",
      "text/plain": [
       "<Figure size 432x288 with 1 Axes>"
      ]
     },
     "metadata": {
      "needs_background": "light"
     },
     "output_type": "display_data"
    }
   ],
   "source": [
    "plt.scatter(y_test, lm.predict(x_test[cols]))\n",
    "plt.xlabel(\"actual prices\")\n",
    "plt.ylabel(\"predicted prices\")\n",
    "plt.axis([0, 10000, 0, 10000])\n",
    "plt.title(\"predicted vs actuals\")\n",
    "plt.show"
   ]
  },
  {
   "cell_type": "code",
   "execution_count": 20,
   "metadata": {},
   "outputs": [
    {
     "data": {
      "text/plain": [
       "<function matplotlib.pyplot.show(*args, **kw)>"
      ]
     },
     "execution_count": 20,
     "metadata": {},
     "output_type": "execute_result"
    },
    {
     "data": {
      "image/png": "[encoded data removed]",
      "text/plain": [
       "<Figure size 432x288 with 1 Axes>"
      ]
     },
     "metadata": {
      "needs_background": "light"
     },
     "output_type": "display_data"
    }
   ],
   "source": [
    "plt.scatter(lm.predict(x_test[cols]), lm.predict(x_test[cols])-y_test)\n",
    "plt.title(\"Residual plot\")\n",
    "plt.show"
   ]
  },
  {
   "cell_type": "code",
   "execution_count": 21,
   "metadata": {},
   "outputs": [
    {
     "name": "stdout",
     "output_type": "stream",
     "text": [
      "32509.67575537839\n",
      "0.1251287015789102\n"
     ]
    }
   ],
   "source": [
    "#MSE\n",
    "y_pred=lm.predict(x_test[cols])\n",
    "print(np.mean((y_test-y_pred)**2))\n",
    "print(metrics.r2_score(y_test,y_pred))"
   ]
  },
  {
   "cell_type": "markdown",
   "metadata": {},
   "source": [
    "The model has a mean-squared error of 32,509 and a $R^2$ value of 0.125. The model is accounting for about 13% of the variation in sale price and is therefore unlikely to have reliable predictive power.\n",
    "\n",
    "### PCA:"
   ]
  },
  {
   "cell_type": "code",
   "execution_count": 22,
   "metadata": {},
   "outputs": [],
   "source": [
    "train , test = train_test_split(df_data, test_size = 0.2)\n",
    "\n",
    "x_train = train.drop('price', axis=1)\n",
    "y_train = train['price']\n",
    "\n",
    "x_test = test.drop('price', axis = 1)\n",
    "y_test = test['price']"
   ]
  },
  {
   "cell_type": "code",
   "execution_count": 24,
   "metadata": {},
   "outputs": [],
   "source": [
    "#imputations - training\n",
    "x_train.cleaning_fee=x_train.cleaning_fee.fillna(x_train.cleaning_fee.median())\n",
    "x_train.host_response_rate=x_train.host_response_rate.fillna(x_train.host_response_rate.median())\n",
    "x_train.review_scores_accuracy=x_train.review_scores_accuracy.fillna(truncate(x_train.review_scores_accuracy.median()))\n",
    "x_train.review_scores_checkin=x_train.review_scores_checkin.fillna(truncate(x_train.review_scores_checkin.median()))\n",
    "x_train.review_scores_cleanliness=x_train.review_scores_cleanliness.fillna(truncate(x_train.review_scores_cleanliness.median()))\n",
    "x_train.review_scores_communication=x_train.review_scores_communication.fillna(truncate(x_train.review_scores_communication.median()))\n",
    "x_train.review_scores_location=x_train.review_scores_location.fillna(truncate(x_train.review_scores_location.median()))\n",
    "#sub.review_scores_rating=sub.review_scores_rating.fillna(truncate(sub.review_scores_rating.median()))\n",
    "x_train.review_scores_value=x_train.review_scores_value.fillna(truncate(x_train.review_scores_value.median()))\n",
    "x_train.reviews_per_month=x_train.reviews_per_month.fillna(x_train.reviews_per_month.median())\n",
    "x_train.security_deposit=x_train.security_deposit.fillna(x_train.security_deposit.median())\n",
    "x_train.bathrooms=x_train.bathrooms.fillna(x_train.bathrooms.median())\n",
    "x_train.bedrooms=x_train.bedrooms.fillna(x_train.bedrooms.median())\n",
    "x_train.host_listings_count=x_train.host_listings_count.fillna(x_train.host_listings_count.median())\n",
    "x_train.beds=x_train.beds.fillna(x_train.beds.median())\n",
    "#sub.host_response_time=sub.host_response_time.fillna('missing')"
   ]
  },
  {
   "cell_type": "code",
   "execution_count": 25,
   "metadata": {},
   "outputs": [],
   "source": [
    "#imputations - test\n",
    "x_test.cleaning_fee=x_test.cleaning_fee.fillna(x_train.cleaning_fee.median())\n",
    "x_test.host_response_rate=x_test.host_response_rate.fillna(x_train.host_response_rate.median())\n",
    "x_test.review_scores_accuracy=x_test.review_scores_accuracy.fillna(truncate(x_train.review_scores_accuracy.median()))\n",
    "x_test.review_scores_checkin=x_test.review_scores_checkin.fillna(truncate(x_train.review_scores_checkin.median()))\n",
    "x_test.review_scores_cleanliness=x_test.review_scores_cleanliness.fillna(truncate(x_train.review_scores_cleanliness.median()))\n",
    "x_test.review_scores_communication=x_test.review_scores_communication.fillna(truncate(x_train.review_scores_communication.median()))\n",
    "x_test.review_scores_location=x_test.review_scores_location.fillna(truncate(x_train.review_scores_location.median()))\n",
    "#sub.review_scores_rating=sub.review_scores_rating.fillna(truncate(sub.review_scores_rating.median()))\n",
    "x_test.review_scores_value=x_test.review_scores_value.fillna(truncate(x_train.review_scores_value.median()))\n",
    "x_test.reviews_per_month=x_test.reviews_per_month.fillna(x_train.reviews_per_month.median())\n",
    "x_test.security_deposit=x_test.security_deposit.fillna(x_train.security_deposit.median())\n",
    "x_test.bathrooms=x_test.bathrooms.fillna(x_train.bathrooms.median())\n",
    "x_test.bedrooms=x_test.bedrooms.fillna(x_train.bedrooms.median())\n",
    "x_test.host_listings_count=x_test.host_listings_count.fillna(x_train.host_listings_count.median())\n",
    "x_test.beds=x_test.beds.fillna(x_train.beds.median())\n",
    "#sub.host_response_time=sub.host_response_time.fillna('missing')"
   ]
  },
  {
   "cell_type": "code",
   "execution_count": 26,
   "metadata": {},
   "outputs": [
    {
     "name": "stderr",
     "output_type": "stream",
     "text": [
      "C:\\Users\\jazis\\AppData\\Local\\Continuum\\anaconda3\\lib\\site-packages\\sklearn\\preprocessing\\data.py:645: DataConversionWarning: Data with input dtype uint8, int32, int64, float64 were all converted to float64 by StandardScaler.\n",
      "  return self.partial_fit(X, y)\n",
      "C:\\Users\\jazis\\AppData\\Local\\Continuum\\anaconda3\\lib\\site-packages\\sklearn\\base.py:464: DataConversionWarning: Data with input dtype uint8, int32, int64, float64 were all converted to float64 by StandardScaler.\n",
      "  return self.fit(X, **fit_params).transform(X)\n",
      "C:\\Users\\jazis\\AppData\\Local\\Continuum\\anaconda3\\lib\\site-packages\\ipykernel_launcher.py:7: DataConversionWarning: Data with input dtype uint8, int32, int64, float64 were all converted to float64 by StandardScaler.\n",
      "  import sys\n"
     ]
    }
   ],
   "source": [
    "from sklearn.preprocessing import StandardScaler\n",
    "\n",
    "# scale attributes by the training set\n",
    "scl_obj = StandardScaler()\n",
    "\n",
    "x_train_scaled = scl_obj.fit_transform(x_train) # apply to training\n",
    "x_test_scaled = scl_obj.transform(x_test) \n",
    "\n"
   ]
  },
  {
   "cell_type": "code",
   "execution_count": 27,
   "metadata": {},
   "outputs": [],
   "source": [
    "#converting training numpy to pandas df to inpute nan values\n",
    "cols = list(x_train.columns.values)\n",
    "x_train_scaled = pd.DataFrame(x_train_scaled, columns=cols)"
   ]
  },
  {
   "cell_type": "code",
   "execution_count": 28,
   "metadata": {},
   "outputs": [],
   "source": [
    "#converting training numpy to pandas df to inpute nan values\n",
    "cols2 = list(x_test.columns.values)\n",
    "x_test_scaled = pd.DataFrame(x_test_scaled, columns=cols2)"
   ]
  },
  {
   "cell_type": "code",
   "execution_count": 30,
   "metadata": {},
   "outputs": [
    {
     "name": "stdout",
     "output_type": "stream",
     "text": [
      "Number of Components: 41\n",
      " \n",
      " Percentage of Explained Variance:\n",
      "[0.05770838 0.05201282 0.04458166 0.03460962 0.02790857 0.02532033\n",
      " 0.02435929 0.02166157 0.02003515 0.01934034 0.01786955 0.01674003\n",
      " 0.01590369 0.01552194 0.01480361 0.01451908 0.01428423 0.01364074\n",
      " 0.01352312 0.0133698  0.01327038 0.0132426  0.01320001 0.01313128\n",
      " 0.01309815 0.01307588 0.01303715 0.01302534 0.01301447 0.01300559\n",
      " 0.01300029 0.01299573 0.01299258 0.01299147 0.0129903  0.01298337\n",
      " 0.01297642 0.01296964 0.0129637  0.012897   0.01284316]\n",
      " \n",
      " Total Variance: 0.7514180591293945\n"
     ]
    }
   ],
   "source": [
    "from sklearn.decomposition import PCA\n",
    "# Make an instance of the Model\n",
    "pca = PCA(.75)\n",
    "\n",
    "x_train_pca = pca.fit_transform(x_train_scaled)\n",
    "x_test_pca = pca.transform(x_test_scaled)\n",
    "\n",
    "n_pca = pca.n_components_\n",
    "explained_variance = pca.explained_variance_ratio_\n",
    "total_variance = total_variance = np.sum(explained_variance)\n",
    "print('Number of Components:', n_pca )\n",
    "\n",
    "#print(' \\n PCA Components:')\n",
    "#print(pd.DataFrame(pca.components_).head())\n",
    "\n",
    "print(' \\n Percentage of Explained Variance:')\n",
    "print(explained_variance)\n",
    "\n",
    "print(' \\n Total Variance:', total_variance )"
   ]
  },
  {
   "cell_type": "code",
   "execution_count": 31,
   "metadata": {},
   "outputs": [
    {
     "name": "stdout",
     "output_type": "stream",
     "text": [
      "[ -5.92489419  30.19967166 -30.83945219   9.00676703  -3.48365466\n",
      "   3.75836314  -0.69389381   2.24573218  11.78593992   2.93113808\n",
      "  -3.05017103  -2.59418858  -8.22240064  -2.56206715  -4.93900623\n",
      "  -2.13750588  -1.03591035   7.67456458  -1.88719994   3.25727341\n",
      "  -7.53434582  -2.65379861   2.85725196   3.89638987   2.62730017\n",
      "   0.19614887  -1.89601207  -4.30439067  -1.62755913  -0.3730162\n",
      "   0.57041631  -1.0133456   -0.03762903   0.84627539   0.55351069\n",
      "  -0.0445498    0.56059858  -0.9653736    2.73074963   3.44960156\n",
      "   0.44228832]\n",
      "141.0731594279661\n"
     ]
    }
   ],
   "source": [
    "# Fitting Linear Regression To the training set \n",
    "from sklearn.linear_model import LinearRegression   \n",
    "  \n",
    "lm = LinearRegression() \n",
    "lm.fit(x_train_pca, y_train)\n",
    "print(lm.coef_)\n",
    "print(lm.intercept_) "
   ]
  },
  {
   "cell_type": "code",
   "execution_count": 33,
   "metadata": {},
   "outputs": [
    {
     "name": "stdout",
     "output_type": "stream",
     "text": [
      "R-squared:  0.2267155483201576\n"
     ]
    }
   ],
   "source": [
    "# Predicting the test set result using  \n",
    "# predict function under LogisticRegression  \n",
    "y_pred = lm.predict(x_test_pca) \n",
    "\n",
    "R_Square = lm.score(x_test_pca, y_test)\n",
    "print('R-squared: ', R_Square )"
   ]
  },
  {
   "cell_type": "code",
   "execution_count": 34,
   "metadata": {},
   "outputs": [
    {
     "data": {
      "text/plain": [
       "28809.813194687464"
      ]
     },
     "execution_count": 34,
     "metadata": {},
     "output_type": "execute_result"
    }
   ],
   "source": [
    "#MSE\n",
    "from sklearn.metrics import mean_squared_error\n",
    "mean_squared_error(y_test, y_pred)"
   ]
  },
  {
   "cell_type": "markdown",
   "metadata": {},
   "source": [
    "__Results:__ \n",
    "\n",
    " - The linear regression model using all PCA components has a mean-squared error of 28,809 and a $R^2$ value of 0.227.  \n",
    " - The PCA model reduced the dimensions of the training set to 41 components which explain 75% of the total variance in model.  \n",
    " - The first two components only explain ~11% of the total variance in the model with all subsequent components each explaining less than 5% of the total variance.  \n",
    " - We test several PCA models adjusting for number of components and percentage of variation explained, but only included the final model in this notebook.\n",
    " \n",
    "\n",
    "### KNN Regression:"
   ]
  },
  {
   "cell_type": "code",
   "execution_count": 35,
   "metadata": {},
   "outputs": [
    {
     "name": "stdout",
     "output_type": "stream",
     "text": [
      "ShuffleSplit(n_splits=3, random_state=None, test_size=0.2, train_size=None)\n"
     ]
    }
   ],
   "source": [
    "#Regression on Pricing\n",
    "#price is the variable to look at\n",
    "from sklearn.preprocessing import Imputer\n",
    "from sklearn.model_selection import ShuffleSplit\n",
    "\n",
    "# we want to predict the X and y data as follows:\n",
    "\n",
    "if 'price' in df_data:\n",
    "    y = df_data['price'].values # get the labels we want\n",
    "    del df_data['price'] # get rid of the class label\n",
    "    X = df_data.values # use everything else to predict!\n",
    "\n",
    "\n",
    "    ## X and y are now numpy matrices, by calling 'values' on the pandas data frames we\n",
    "    #    have converted them into simple matrices to use with scikit learn\n",
    "    \n",
    "\n",
    "# to use the cross validation object in scikit learn, we need to grab an instance\n",
    "#    of the object and set it up. This object will be able to split our data into \n",
    "#    training and testing splits\n",
    "num_cv_iterations = 3\n",
    "num_instances = len(y)\n",
    "cv_object = ShuffleSplit(n_splits=num_cv_iterations,\n",
    "                         test_size  = 0.2)\n",
    "                         \n",
    "print(cv_object)\n",
    "#split data into train and test set"
   ]
  },
  {
   "cell_type": "code",
   "execution_count": 36,
   "metadata": {},
   "outputs": [],
   "source": [
    "for train_indices, test_indices in cv_object.split(X,y): \n",
    "    # I will create new variables here so that it is more obvious what \n",
    "    # the code is doing (you can compact this syntax and avoid duplicating memory,\n",
    "    # but it makes this code less readable)\n",
    "    X_train = X[train_indices]\n",
    "    y_train = y[train_indices]\n",
    "    \n",
    "    X_test = X[test_indices]\n",
    "    y_test = y[test_indices]"
   ]
  },
  {
   "cell_type": "code",
   "execution_count": 37,
   "metadata": {},
   "outputs": [
    {
     "name": "stderr",
     "output_type": "stream",
     "text": [
      "C:\\Users\\jazis\\AppData\\Local\\Continuum\\anaconda3\\lib\\site-packages\\sklearn\\utils\\deprecation.py:58: DeprecationWarning: Class Imputer is deprecated; Imputer was deprecated in version 0.20 and will be removed in 0.22. Import impute.SimpleImputer from sklearn instead.\n",
      "  warnings.warn(msg, category=DeprecationWarning)\n"
     ]
    }
   ],
   "source": [
    "from sklearn.preprocessing import Imputer\n",
    "imp = Imputer(missing_values=np.nan, strategy='median', axis = 0)\n",
    "#Impute missing values for the train set\n",
    "imputer = imp.fit(X_train[:, :-1])\n",
    "X_train[:, :-1] = imputer.transform(X_train[:, :-1])\n",
    "\n",
    "#Impute missing values for the test set\n",
    "imputer = imp.fit(X_test[:, :-1])\n",
    "X_test[:, :-1] = imputer.transform(X_test[:, :-1])"
   ]
  },
  {
   "cell_type": "code",
   "execution_count": 38,
   "metadata": {},
   "outputs": [
    {
     "name": "stdout",
     "output_type": "stream",
     "text": [
      "RMSE value for k=  1 is: 191.07800889163443\n",
      "RMSE value for k=  2 is: 186.57835065248966\n",
      "RMSE value for k=  3 is: 178.08329264419268\n",
      "RMSE value for k=  4 is: 179.1009868522762\n",
      "RMSE value for k=  5 is: 173.1852169337983\n",
      "RMSE value for k=  6 is: 171.8799618462863\n",
      "RMSE value for k=  7 is: 170.73098391751853\n",
      "RMSE value for k=  8 is: 169.4852624130443\n",
      "RMSE value for k=  9 is: 167.3968706082745\n",
      "RMSE value for k=  10 is: 165.8977212886319\n"
     ]
    }
   ],
   "source": [
    "from sklearn import neighbors\n",
    "from sklearn.metrics import mean_squared_error \n",
    "from math import sqrt\n",
    "import matplotlib.pyplot as plt\n",
    "%matplotlib inline\n",
    "\n",
    "rmse_val = [] #to store rmse values for different k\n",
    "for K in range(10):\n",
    "    K = K+1\n",
    "    model = neighbors.KNeighborsRegressor(n_neighbors = K)\n",
    "\n",
    "    model.fit(X_train, y_train)  #fit the model\n",
    "    pred=model.predict(X_test) #make prediction on test set\n",
    "    error = sqrt(mean_squared_error(y_test,pred)) #calculate rmse\n",
    "    rmse_val.append(error) #store rmse values\n",
    "    print('RMSE value for k= ' , K , 'is:', error)"
   ]
  },
  {
   "cell_type": "markdown",
   "metadata": {},
   "source": [
    "__Plotting the KNN Regression Test Accuracy__"
   ]
  },
  {
   "cell_type": "code",
   "execution_count": 39,
   "metadata": {},
   "outputs": [
    {
     "data": {
      "text/plain": [
       "<matplotlib.axes._subplots.AxesSubplot at 0x22d4b7814e0>"
      ]
     },
     "execution_count": 39,
     "metadata": {},
     "output_type": "execute_result"
    },
    {
     "data": {
      "image/png": "[encoded data removed]",
      "text/plain": [
       "<Figure size 432x288 with 1 Axes>"
      ]
     },
     "metadata": {
      "needs_background": "light"
     },
     "output_type": "display_data"
    }
   ],
   "source": [
    "#plotting the rmse values against k values\n",
    "curve = pd.DataFrame(rmse_val) #elbow curve \n",
    "curve.plot()"
   ]
  },
  {
   "cell_type": "code",
   "execution_count": 41,
   "metadata": {},
   "outputs": [
    {
     "data": {
      "text/plain": [
       "{'n_neighbors': 10}"
      ]
     },
     "execution_count": 41,
     "metadata": {},
     "output_type": "execute_result"
    }
   ],
   "source": [
    "#find best number of neighbors\n",
    "from sklearn.model_selection import GridSearchCV\n",
    "params = {'n_neighbors':[2,3,4,5,6,7,8,9,10]}\n",
    "\n",
    "knn = neighbors.KNeighborsRegressor()\n",
    "\n",
    "model = GridSearchCV(knn, params, cv=5)\n",
    "model.fit(X_train,y_train)\n",
    "model.best_params_"
   ]
  },
  {
   "cell_type": "markdown",
   "metadata": {},
   "source": [
    "For KNN regression, we tested the model up to 10 neighbors and calculated RMSE for each increase in neighbor k. At k=10, the calculated RMSE was approximately 139 (or a MSE of 66,883). \n",
    "\n",
    "The KNN's MSE metric was not better than PCA with feature selection (MSE of 28011) since PCA was not performed prior to KNN regression. This means that the KNN model had all the non-reduced information (and dimensions) and could have inflated the RMSE metric and appeared to be under-fitting.\n",
    "\n",
    "Also based on the MSE metric, KNN did not outperform the linear model (MSE of 66,883 VS 56,423). The latter utilised a feature_selection toolkit from sklearn to choose 10 best features to be included in the model.\n",
    "\n",
    "The linear model with feature_selection did narrow down some price influencing features such as Longitude.\n",
    " - Latitude was not important. Longtitudinal change determines the rental unit's NYC boroughs (neighborhoods)\n",
    "\n",
    "The remaining features were: \n",
    " - accommodates, bathrooms, bedrooms, beds, security_deposit, cleaning_fee. guests_included, review_scores_communication \n",
    " - which explained how many persons can the property host, number of bathrooms/bedrooms/beds, the deposit amount, cleaning fee, number of guests that the renter can bring, a subjective score on communication.\n",
    "\n",
    "The PCA linear regression would be a better representation of generalizing the price prediction problem as the PCA portion would reduced some unnecessary information prior to selecting the variables for regression modeling. Therefore it would be less likely to be overfitted."
   ]
  },
  {
   "cell_type": "markdown",
   "metadata": {},
   "source": [
    "## Classification task: Classifiying review scores of AirBnb hosts\n",
    "\n",
    "__Evaluation metrics:__ \n",
    "\n",
    " - To assess the performance of the classification models, we will use accuracy, precision, recall, F-1, and support to determine how the well the model can categorize across the three different levels. By using all 5 of these evaluation measures, we can more thoroughly compare models performance for any level of rating.\n",
    "\n",
    "__Training and testing sets:__ \n",
    "\n",
    " - We used random sampling to divide the test and training sets. This technique allows for the samples to mimic the population distribution. Since our test sets are quite large, the test and training sets are likely to include the desired classes.\n",
    "\n",
    "__Models:__ \n",
    "\n",
    " - We used KNN, SVM, and decision trees to classify a host's review score.\n",
    " \n",
    "### KNN:\n",
    "\n",
    " - We focused on the continuous predictors for clustering since the algorithm assesses distances between observations, and the categorical dummy variables have arbitrary distances between them. This not only increased algorthmic speed but also did not worsen the fit of the model."
   ]
  },
  {
   "cell_type": "code",
   "execution_count": 42,
   "metadata": {},
   "outputs": [],
   "source": [
    "#imputations - training\n",
    "df.cleaning_fee=x_train.cleaning_fee.fillna(x_train.cleaning_fee.median())\n",
    "df.host_response_rate=x_train.host_response_rate.fillna(x_train.host_response_rate.median())\n",
    "df.review_scores_accuracy=x_train.review_scores_accuracy.fillna(truncate(x_train.review_scores_accuracy.median()))\n",
    "df.review_scores_checkin=x_train.review_scores_checkin.fillna(truncate(x_train.review_scores_checkin.median()))\n",
    "df.review_scores_cleanliness=x_train.review_scores_cleanliness.fillna(truncate(x_train.review_scores_cleanliness.median()))\n",
    "df.review_scores_communication=x_train.review_scores_communication.fillna(truncate(x_train.review_scores_communication.median()))\n",
    "df.review_scores_location=x_train.review_scores_location.fillna(truncate(x_train.review_scores_location.median()))\n",
    "#sub.review_scores_rating=sub.review_scores_rating.fillna(truncate(sub.review_scores_rating.median()))\n",
    "df.review_scores_value=x_train.review_scores_value.fillna(truncate(x_train.review_scores_value.median()))\n",
    "df.reviews_per_month=x_train.reviews_per_month.fillna(x_train.reviews_per_month.median())\n",
    "df.security_deposit=x_train.security_deposit.fillna(x_train.security_deposit.median())\n",
    "df.bathrooms=x_train.bathrooms.fillna(x_train.bathrooms.median())\n",
    "df.bedrooms=x_train.bedrooms.fillna(x_train.bedrooms.median())\n",
    "df.host_listings_count=x_train.host_listings_count.fillna(x_train.host_listings_count.median())\n",
    "df.beds=x_train.beds.fillna(x_train.beds.median())\n",
    "#sub.host_response_time=sub.host_response_time.fillna('missing')"
   ]
  },
  {
   "cell_type": "code",
   "execution_count": 43,
   "metadata": {},
   "outputs": [],
   "source": [
    "df=df.dropna(how='any')\n",
    "df = pd.get_dummies(df)\n",
    "train , test = train_test_split(df, test_size = 0.2)\n",
    "\n",
    "x_train_knn = train.drop('score_levels', axis=1)\n",
    "y_train_knn = train['score_levels']\n",
    "\n",
    "x_test_knn = test.drop('score_levels', axis = 1)\n",
    "y_test_knn = test['score_levels']"
   ]
  },
  {
   "cell_type": "code",
   "execution_count": 44,
   "metadata": {},
   "outputs": [],
   "source": [
    "df_cont = x_train_knn.select_dtypes(include=['int', 'float']).columns #continuous columns\n",
    "x_train_knn=x_train_knn[df_cont]\n",
    "\n",
    "x_test_knn=x_test_knn[df_cont]"
   ]
  },
  {
   "cell_type": "code",
   "execution_count": 45,
   "metadata": {},
   "outputs": [
    {
     "data": {
      "text/plain": [
       "False"
      ]
     },
     "execution_count": 45,
     "metadata": {},
     "output_type": "execute_result"
    }
   ],
   "source": [
    "y_train_knn.isnull().values.any()"
   ]
  },
  {
   "cell_type": "code",
   "execution_count": 46,
   "metadata": {},
   "outputs": [],
   "source": [
    "from sklearn.preprocessing import MinMaxScaler\n",
    "scaler = MinMaxScaler(feature_range=(0, 1))\n",
    "\n",
    "x_train_scaled_knn = scaler.fit_transform(x_train_knn)\n",
    "x_train_knn = pd.DataFrame(x_train_scaled_knn)\n",
    "\n",
    "x_test_scaled_knn = scaler.fit_transform(x_test_knn)\n",
    "x_test_knn = pd.DataFrame(x_test_scaled_knn)\n"
   ]
  },
  {
   "cell_type": "code",
   "execution_count": 47,
   "metadata": {},
   "outputs": [],
   "source": [
    "from sklearn import metrics\n",
    "from sklearn.metrics import average_precision_score"
   ]
  },
  {
   "cell_type": "code",
   "execution_count": 48,
   "metadata": {},
   "outputs": [
    {
     "name": "stdout",
     "output_type": "stream",
     "text": [
      "Accuracy: 0.9864283349884144\n",
      "Accuracy: 0.9867593512082092\n",
      "Accuracy: 0.9877523998675936\n",
      "Accuracy: 0.9884144323071831\n",
      "Accuracy: 0.9884144323071831\n"
     ]
    }
   ],
   "source": [
    "for K in range(5):\n",
    "    K = K+1\n",
    "    knn = neighbors.KNeighborsClassifier(n_neighbors=K)\n",
    "\n",
    "    knn.fit(x_train_knn, y_train_knn)  #fit the model\n",
    "    y_pred_knn = knn.predict(x_test_knn)\n",
    "    print(\"Accuracy:\",metrics.accuracy_score(y_test_knn, y_pred_knn))\n",
    "    cr = metrics.classification_report(y_test_knn, y_pred_knn)\n"
   ]
  },
  {
   "cell_type": "code",
   "execution_count": 49,
   "metadata": {},
   "outputs": [
    {
     "name": "stdout",
     "output_type": "stream",
     "text": [
      "Accuracy: 0.9884144323071831\n"
     ]
    }
   ],
   "source": [
    "knn = neighbors.KNeighborsClassifier(n_neighbors=4)\n",
    "\n",
    "knn.fit(x_train_knn, y_train_knn)  #fit the model\n",
    "y_pred_knn = knn.predict(x_test_knn)\n",
    "cr = metrics.classification_report(y_test_knn, y_pred_knn)\n",
    "print(\"Accuracy:\",metrics.accuracy_score(y_test_knn, y_pred_knn))"
   ]
  },
  {
   "cell_type": "code",
   "execution_count": 50,
   "metadata": {},
   "outputs": [
    {
     "name": "stdout",
     "output_type": "stream",
     "text": [
      "              precision    recall  f1-score   support\n",
      "\n",
      "           0       0.80      0.80      0.80        15\n",
      "           1       0.67      0.47      0.55        92\n",
      "           2       0.99      1.00      0.99      5935\n",
      "\n",
      "   micro avg       0.99      0.99      0.99      6042\n",
      "   macro avg       0.82      0.75      0.78      6042\n",
      "weighted avg       0.99      0.99      0.99      6042\n",
      "\n"
     ]
    }
   ],
   "source": [
    "print(cr)"
   ]
  },
  {
   "cell_type": "markdown",
   "metadata": {},
   "source": [
    "__Results:__ \n",
    "\n",
    " - KNN classifies \"high\" reviews the best compared to the other two classes, most likely due to do the greater concentration of observations in that class. \n",
    " - It is next best at classifying \"low\" reviews, as shown by the f1-score (which balances the precision and recall scores). This is not surprising, since the clustering algorithm best predicts extreme values and has more difficulty with middle-of-the-road listings.\n",
    " - The accuracy of the model with 4 neighbors is 98.88%. This is very high, perhaps indicating overfitting or the prevalance of high ratings."
   ]
  },
  {
   "cell_type": "markdown",
   "metadata": {},
   "source": [
    "### SVM:"
   ]
  },
  {
   "cell_type": "code",
   "execution_count": 51,
   "metadata": {},
   "outputs": [
    {
     "name": "stdout",
     "output_type": "stream",
     "text": [
      "ShuffleSplit(n_splits=3, random_state=None, test_size=0.2, train_size=None)\n"
     ]
    }
   ],
   "source": [
    "##splitting prection from predictor variables\n",
    "\n",
    "from sklearn.model_selection import ShuffleSplit\n",
    "\n",
    "# we want to predict the X and y data as follows:\n",
    "\n",
    "if 'score_levels' in df_data:\n",
    "    y = df_data['score_levels'].values # get the labels we want\n",
    "    del df_data['score_levels'] # get rid of the class label\n",
    "    X = df_data.values # use everything else to predict!\n",
    "\n",
    "\n",
    "    ## X and y are now numpy matrices, by calling 'values' on the pandas data frames we\n",
    "    #    have converted them into simple matrices to use with scikit learn\n",
    "    \n",
    "\n",
    "# to use the cross validation object in scikit learn, we need to grab an instance\n",
    "#    of the object and set it up. This object will be able to split our data into \n",
    "#    training and testing splits\n",
    "num_cv_iterations = 3\n",
    "num_instances = len(y)\n",
    "cv_object = ShuffleSplit(n_splits=num_cv_iterations,\n",
    "                         test_size  = 0.2)\n",
    "                         \n",
    "print(cv_object)"
   ]
  },
  {
   "cell_type": "code",
   "execution_count": 52,
   "metadata": {
    "scrolled": true
   },
   "outputs": [],
   "source": [
    "for train_indices, test_indices in cv_object.split(X,y): \n",
    "    # I will create new variables here so that it is more obvious what \n",
    "    # the code is doing (you can compact this syntax and avoid duplicating memory,\n",
    "    # but it makes this code less readable)\n",
    "    X_train = X[train_indices]\n",
    "    y_train = y[train_indices]\n",
    "    \n",
    "    X_test = X[test_indices]\n",
    "    y_test = y[test_indices]\n"
   ]
  },
  {
   "cell_type": "code",
   "execution_count": 53,
   "metadata": {
    "scrolled": true
   },
   "outputs": [],
   "source": [
    "#converting training numpy to pandas df to inpute nan values\n",
    "cols = list(df_data.columns.values)\n",
    "impute = pd.DataFrame(X_train, columns=cols)\n",
    "#impute\n",
    "\n",
    "#converting test numpy to pandas df to inpute nan values\n",
    "cols = list(df_data.columns.values)\n",
    "impute_test = pd.DataFrame(X_test, columns=cols)\n",
    "#impute_test"
   ]
  },
  {
   "cell_type": "code",
   "execution_count": 54,
   "metadata": {},
   "outputs": [],
   "source": [
    "#imputations - training\n",
    "#impute['price']=impute.price.mask(impute.price == 0,impute.price.median())\n",
    "impute.cleaning_fee=impute.cleaning_fee.fillna(impute.cleaning_fee.median())\n",
    "impute.host_response_rate=impute.host_response_rate.fillna(impute.host_response_rate.median())\n",
    "impute.review_scores_accuracy=impute.review_scores_accuracy.fillna(truncate(impute.review_scores_accuracy.median()))\n",
    "impute.review_scores_checkin=impute.review_scores_checkin.fillna(truncate(impute.review_scores_checkin.median()))\n",
    "impute.review_scores_cleanliness=impute.review_scores_cleanliness.fillna(truncate(impute.review_scores_cleanliness.median()))\n",
    "impute.review_scores_communication=impute.review_scores_communication.fillna(truncate(impute.review_scores_communication.median()))\n",
    "impute.review_scores_location=impute.review_scores_location.fillna(truncate(impute.review_scores_location.median()))\n",
    "#sub.review_scores_rating=sub.review_scores_rating.fillna(truncate(sub.review_scores_rating.median()))\n",
    "impute.review_scores_value=impute.review_scores_value.fillna(truncate(impute.review_scores_value.median()))\n",
    "impute.reviews_per_month=impute.reviews_per_month.fillna(impute.reviews_per_month.median())\n",
    "impute.security_deposit=impute.security_deposit.fillna(impute.security_deposit.median())\n",
    "impute.bathrooms=impute.bathrooms.fillna(impute.bathrooms.median())\n",
    "impute.bedrooms=impute.bedrooms.fillna(impute.bedrooms.median())\n",
    "impute.host_listings_count=impute.host_listings_count.fillna(impute.host_listings_count.median())\n",
    "impute.beds=impute.beds.fillna(impute.beds.median())\n",
    "#sub.host_response_time=sub.host_response_time.fillna('missing')"
   ]
  },
  {
   "cell_type": "code",
   "execution_count": 55,
   "metadata": {},
   "outputs": [],
   "source": [
    "#imputations - test\n",
    "#impute_test['price']=impute_test.price.mask(impute.price == 0,impute.price.median())\n",
    "impute_test.cleaning_fee=impute_test.cleaning_fee.fillna(impute.cleaning_fee.median())\n",
    "impute_test.host_response_rate=impute_test.host_response_rate.fillna(impute.host_response_rate.median())\n",
    "impute_test.review_scores_accuracy=impute_test.review_scores_accuracy.fillna(truncate(impute.review_scores_accuracy.median()))\n",
    "impute_test.review_scores_checkin=impute_test.review_scores_checkin.fillna(truncate(impute.review_scores_checkin.median()))\n",
    "impute_test.review_scores_cleanliness=impute_test.review_scores_cleanliness.fillna(truncate(impute.review_scores_cleanliness.median()))\n",
    "impute_test.review_scores_communication=impute_test.review_scores_communication.fillna(truncate(impute.review_scores_communication.median()))\n",
    "impute_test.review_scores_location=impute_test.review_scores_location.fillna(truncate(impute.review_scores_location.median()))\n",
    "#sub.review_scores_rating=sub.review_scores_rating.fillna(truncate(sub.review_scores_rating.median()))\n",
    "impute_test.review_scores_value=impute_test.review_scores_value.fillna(truncate(impute.review_scores_value.median()))\n",
    "impute_test.reviews_per_month=impute_test.reviews_per_month.fillna(impute.reviews_per_month.median())\n",
    "impute_test.security_deposit=impute_test.security_deposit.fillna(impute.security_deposit.median())\n",
    "impute_test.bathrooms=impute_test.bathrooms.fillna(impute.bathrooms.median())\n",
    "impute_test.bedrooms=impute_test.bedrooms.fillna(impute.bedrooms.median())\n",
    "impute_test.host_listings_count=impute_test.host_listings_count.fillna(impute.host_listings_count.median())\n",
    "impute_test.beds=impute_test.beds.fillna(impute.beds.median())\n",
    "#sub.host_response_time=sub.host_response_time.fillna('missing')"
   ]
  },
  {
   "cell_type": "code",
   "execution_count": 56,
   "metadata": {},
   "outputs": [],
   "source": [
    "#converting pandas df back to numpy matrix - for train\n",
    "X_train = impute.values\n",
    "\n",
    "#converting pandas df back to numpy matrix - for test\n",
    "X_test = impute_test.values"
   ]
  },
  {
   "cell_type": "code",
   "execution_count": 57,
   "metadata": {},
   "outputs": [
    {
     "name": "stderr",
     "output_type": "stream",
     "text": [
      "C:\\Users\\jazis\\AppData\\Local\\Continuum\\anaconda3\\lib\\site-packages\\sklearn\\utils\\deprecation.py:58: DeprecationWarning: Class Imputer is deprecated; Imputer was deprecated in version 0.20 and will be removed in 0.22. Import impute.SimpleImputer from sklearn instead.\n",
      "  warnings.warn(msg, category=DeprecationWarning)\n"
     ]
    }
   ],
   "source": [
    "from sklearn.preprocessing import StandardScaler\n",
    "from sklearn.preprocessing import Imputer\n",
    "imp = Imputer(strategy=\"median\", axis=0)\n",
    "\n",
    "# scale attributes by the training set\n",
    "scl_obj = StandardScaler()\n",
    "#scl_obj.fit(X_train) # find scalings for each column that make this zero mean and unit std\n",
    "# the line of code above only looks at training data to get mean and std and we can use it \n",
    "# to transform new feature data\n",
    "\n",
    "X_train_scaled = scl_obj.fit_transform(X_train) # apply to training\n",
    "X_test_scaled = scl_obj.transform(X_test) "
   ]
  },
  {
   "cell_type": "code",
   "execution_count": 58,
   "metadata": {},
   "outputs": [
    {
     "name": "stdout",
     "output_type": "stream",
     "text": [
      "accuracy: 0.9856991525423728\n",
      "[[  20    8    3]\n",
      " [   3   79   42]\n",
      " [   3   49 7345]]\n",
      "              precision    recall  f1-score   support\n",
      "\n",
      "           0       0.77      0.65      0.70        31\n",
      "           1       0.58      0.64      0.61       124\n",
      "           2       0.99      0.99      0.99      7397\n",
      "\n",
      "   micro avg       0.99      0.99      0.99      7552\n",
      "   macro avg       0.78      0.76      0.77      7552\n",
      "weighted avg       0.99      0.99      0.99      7552\n",
      "\n"
     ]
    }
   ],
   "source": [
    "from sklearn.svm import SVC\n",
    "from sklearn import metrics as mt\n",
    "\n",
    "# train the model just as before\n",
    "svm_clf = SVC(C=10, kernel='rbf', degree=3, gamma='auto',class_weight='balanced') # get object\n",
    "svm_clf.fit(X_train_scaled, y_train)  # train object\n",
    "\n",
    "y_hat = svm_clf.predict(X_test_scaled) # get test set precitions\n",
    "\n",
    "acc = mt.accuracy_score(y_test,y_hat)\n",
    "conf = mt.confusion_matrix(y_test,y_hat)\n",
    "cr = mt.classification_report(y_test, y_hat)\n",
    "print('accuracy:', acc )\n",
    "print(conf)\n",
    "print(cr)"
   ]
  },
  {
   "cell_type": "code",
   "execution_count": 59,
   "metadata": {},
   "outputs": [
    {
     "name": "stdout",
     "output_type": "stream",
     "text": [
      "(observations, variables):\n",
      "(1792, 79)\n",
      "\n",
      " Observations on the edge of a class:\n",
      "[  68  304 1420]\n"
     ]
    }
   ],
   "source": [
    "print('(observations, variables):')\n",
    "print(svm_clf.support_vectors_.shape) #(observations, variables) to be support vectors\n",
    "\n",
    "#print(svm_clf.support_.shape) #(observations,) on the edge of vector\n",
    "\n",
    "print('\\n Observations on the edge of a class:')\n",
    "print(svm_clf.n_support_ ) #([observations on the edge for one class/ obs on edge for the other class ])"
   ]
  },
  {
   "cell_type": "code",
   "execution_count": 60,
   "metadata": {},
   "outputs": [
    {
     "name": "stderr",
     "output_type": "stream",
     "text": [
      "C:\\Users\\jazis\\AppData\\Local\\Continuum\\anaconda3\\lib\\site-packages\\ipykernel_launcher.py:8: SettingWithCopyWarning: \n",
      "A value is trying to be set on a copy of a slice from a DataFrame.\n",
      "Try using .loc[row_indexer,col_indexer] = value instead\n",
      "\n",
      "See the caveats in the documentation: http://pandas.pydata.org/pandas-docs/stable/indexing.html#indexing-view-versus-copy\n",
      "  \n"
     ]
    },
    {
     "data": {
      "text/plain": [
       "Index(['host_id', 'host_response_rate', 'host_is_superhost',\n",
       "       'host_listings_count', 'host_identity_verified', 'latitude',\n",
       "       'longitude', 'is_location_exact', 'accommodates', 'bathrooms',\n",
       "       'bedrooms', 'beds', 'security_deposit', 'cleaning_fee',\n",
       "       'guests_included', 'extra_people', 'minimum_nights', 'maximum_nights',\n",
       "       'availability_60', 'number_of_reviews', 'number_of_reviews_ltm',\n",
       "       'review_scores_accuracy', 'review_scores_cleanliness',\n",
       "       'review_scores_checkin', 'review_scores_communication',\n",
       "       'review_scores_location', 'review_scores_value',\n",
       "       'calculated_host_listings_count_entire_homes',\n",
       "       'calculated_host_listings_count_private_rooms', 'reviews_per_month',\n",
       "       'within a day', 'within a few hours', 'within an hour', 'Apartment',\n",
       "       'Bed and breakfast', 'Boat', 'Boutique hotel', 'Bungalow', 'Cabin',\n",
       "       'Camper/RV', 'Casa particular (Cuba)', 'Castle', 'Cave', 'Condominium',\n",
       "       'Cottage', 'Dome house', 'Earth house', 'Guest suite', 'Guesthouse',\n",
       "       'Hostel', 'Hotel', 'House', 'Houseboat', 'Lighthouse', 'Loft',\n",
       "       'Nature lodge', 'Other', 'Resort', 'Serviced apartment', 'Tent',\n",
       "       'Tiny house', 'Townhouse', 'Treehouse', 'Villa', 'Private room',\n",
       "       'Shared room', 'Couch', 'Futon', 'Pull-out Sofa', 'Real Bed',\n",
       "       'moderate', 'strict', 'strict_14_with_grace_period', 'super_strict_30',\n",
       "       'super_strict_60', 'Brooklyn', 'Manhattan', 'Queens', 'Staten Island',\n",
       "       'score_levels'],\n",
       "      dtype='object')"
      ]
     },
     "execution_count": 60,
     "metadata": {},
     "output_type": "execute_result"
    }
   ],
   "source": [
    "# Instances chosen as support vectors\n",
    "\n",
    "# make a dataframe of the training data\n",
    "df_tested_on = df_data.iloc[train_indices] # saved from above, the indices chosen for training\n",
    "# now get the support vectors from the trained model\n",
    "df_support = df_tested_on.iloc[svm_clf.support_,:]\n",
    "\n",
    "df_support['score_levels'] = y[svm_clf.support_] # add back in the 'score_levels' column to the pandas dataframe\n",
    "df_data['score_levels'] = y # also add it back in for the original data\n",
    "df_support.columns"
   ]
  },
  {
   "cell_type": "markdown",
   "metadata": {},
   "source": [
    "__Results:__ (Analyze the results using your chosen method of evaluation. Use\n",
    "visualizations of the results to bolster the analysis. Explain any visuals and analyze why\n",
    "they are interesting to someone that might use this model.)\n",
    "\n",
    " - The SVM model was 98% accurate and had a weighted average F1-score of 99%.\n",
    " - The SVM model does best classifying \"high\" reviews. Because the ratings variable is highly unbalanced and the majority of scores are high, it is not surprising that the model ad 99% recall and precision for classifying ratings in that class.\n",
    " - Like the KNN model, it classified \"low\" reviews with the second highest average F1-score of 98%. Although it was more precise in classifying \"low\" ratings at 82% (over 49% for \"medium\" ratings), it had higher recall classifying \"medium\" ratings at 62% (over 58% for \"low\" ratings).\n",
    " - There 1770 observations on edge of a class resulting in 79 support vectors. 78% of the observations were on edge of \"high\" ratings class, 18% of the observations were on the edge of the \"medium\" rating class, and remaining 4% belonged to the \"low\" class.\n",
    " - The instances chosen as support vectors include variables pertaining to the cancellation policy, location (neighborhood and coordinates), accommodations (property type, bed type, rooms, etc.), host characteristics (id, response rate, verified, etc.), and other rating categories. The support vectors range to include many different types of variables, but there is no specific category that stands out. However, many of the support vectors are from levels of a categorical variable that had very small volumes (like castle, caves, pull-out sofa) or many unique values (like host id or price). It makes sense that the model would have a harder time predicting a classification class when there is very little training data available.\n",
    " \n",
    " ### Decision Tree:"
   ]
  },
  {
   "cell_type": "code",
   "execution_count": 61,
   "metadata": {},
   "outputs": [],
   "source": [
    "##splitting prection from predictor variables\n",
    "from sklearn.preprocessing import Imputer\n",
    "from sklearn.model_selection import ShuffleSplit\n",
    "\n",
    "# we want to predict the X and y data as follows:\n",
    "\n",
    "if 'perf_score' in df_data:\n",
    "    y = df_data['perf_score'].values # get the labels we want\n",
    "    del df_data['perf_score'] # get rid of the class label\n",
    "    X = df_data.values # use everything else to predict!\n",
    "\n",
    "\n",
    "    ## X and y are now numpy matrices, by calling 'values' on the pandas data frames we\n",
    "    #    have converted them into simple matrices to use with scikit learn\n",
    "    \n",
    "\n",
    "# to use the cross validation object in scikit learn, we need to grab an instance\n",
    "#    of the object and set it up. This object will be able to split our data into \n",
    "#    training and testing splits\n",
    "num_cv_iterations = 3\n",
    "num_instances = len(y)\n",
    "cv_object = ShuffleSplit(n_splits=num_cv_iterations,\n",
    "                         test_size  = 0.2)"
   ]
  },
  {
   "cell_type": "code",
   "execution_count": 62,
   "metadata": {},
   "outputs": [],
   "source": [
    "for train_indices, test_indices in cv_object.split(X,y): \n",
    "    # I will create new variables here so that it is more obvious what \n",
    "    # the code is doing (you can compact this syntax and avoid duplicating memory,\n",
    "    # but it makes this code less readable)\n",
    "    X_train = X[train_indices]\n",
    "    y_train = y[train_indices]\n",
    "    \n",
    "    X_test = X[test_indices]\n",
    "    y_test = y[test_indices]"
   ]
  },
  {
   "cell_type": "code",
   "execution_count": 63,
   "metadata": {},
   "outputs": [
    {
     "name": "stderr",
     "output_type": "stream",
     "text": [
      "C:\\Users\\jazis\\AppData\\Local\\Continuum\\anaconda3\\lib\\site-packages\\sklearn\\utils\\deprecation.py:58: DeprecationWarning: Class Imputer is deprecated; Imputer was deprecated in version 0.20 and will be removed in 0.22. Import impute.SimpleImputer from sklearn instead.\n",
      "  warnings.warn(msg, category=DeprecationWarning)\n"
     ]
    }
   ],
   "source": [
    "#Missing Values Imputation\n",
    "from sklearn.preprocessing import Imputer\n",
    "imp = Imputer(missing_values=np.nan, strategy='median', axis = 0)\n",
    "#Impute missing values for the train set\n",
    "imputer = imp.fit(X_train[:, :-1])\n",
    "X_train[:, :-1] = imputer.transform(X_train[:, :-1])\n",
    "\n",
    "#Impute missing values for the test set\n",
    "imputer = imp.fit(X_test[:, :-1])\n",
    "X_test[:, :-1] = imputer.transform(X_test[:, :-1])"
   ]
  },
  {
   "cell_type": "code",
   "execution_count": 64,
   "metadata": {},
   "outputs": [
    {
     "name": "stdout",
     "output_type": "stream",
     "text": [
      "Training Once:\n",
      "Wall time: 624 ms\n",
      "accuracy: 0.984375\n",
      "Training Once:\n",
      "Wall time: 649 ms\n",
      "accuracy: 0.9847722457627118\n",
      "Training Once:\n",
      "Wall time: 619 ms\n",
      "accuracy: 0.9845074152542372\n"
     ]
    }
   ],
   "source": [
    "from sklearn.tree import DecisionTreeClassifier\n",
    "from sklearn import metrics as mt\n",
    "\n",
    "dt_clf=DecisionTreeClassifier()\n",
    "for train, test in cv_object.split(X,y):\n",
    "    print ('Training Once:')\n",
    "    # train the decision tree algorithm\n",
    "    %time dt_clf.fit(X_train,y_train)\n",
    "    yhat = dt_clf.predict(X_test)\n",
    "    print ('accuracy:', mt.accuracy_score(y_test,yhat))"
   ]
  },
  {
   "cell_type": "code",
   "execution_count": 65,
   "metadata": {},
   "outputs": [],
   "source": [
    "# from the tutorial: http://www.kaggle.com/c/datasciencebowl/details/tutorial \n",
    "def multiclass_log_loss(y_true, y_pred, eps=1e-15):\n",
    "    \"\"\"Multi class version of Logarithmic Loss metric.\n",
    "    https://www.kaggle.com/wiki/MultiClassLogLoss\n",
    "\n",
    "    Parameters\n",
    "    ----------\n",
    "    y_true : array, shape = [n_samples]\n",
    "            true class, integers in [0, n_classes - 1)\n",
    "    y_pred : array, shape = [n_samples, n_classes]\n",
    "\n",
    "    Returns\n",
    "    -------\n",
    "    loss : float\n",
    "    \"\"\"\n",
    "    predictions = np.clip(y_pred, eps, 1 - eps)\n",
    "\n",
    "    # normalize row sums to 1\n",
    "    predictions /= predictions.sum(axis=1)[:, np.newaxis]\n",
    "\n",
    "    actual = np.zeros(y_pred.shape)\n",
    "    n_samples = actual.shape[0]\n",
    "    actual[np.arange(n_samples), y_true.astype(int)] = 1\n",
    "    vectsum = np.sum(actual * np.log(predictions))\n",
    "    loss = -1.0 / n_samples * vectsum\n",
    "    return loss"
   ]
  },
  {
   "cell_type": "code",
   "execution_count": 66,
   "metadata": {},
   "outputs": [
    {
     "name": "stdout",
     "output_type": "stream",
     "text": [
      "Accuracy: 0.9845074152542372\n",
      "Log Loss: 0.5350949203131045\n"
     ]
    }
   ],
   "source": [
    "yhat = dt_clf.predict(X_test)\n",
    "class_probabilities = dt_clf.predict_proba(X_test)\n",
    "print ('Accuracy:', mt.accuracy_score(y_test,yhat))\n",
    "print ('Log Loss:', multiclass_log_loss(y_test, class_probabilities))"
   ]
  },
  {
   "cell_type": "code",
   "execution_count": 67,
   "metadata": {},
   "outputs": [
    {
     "name": "stdout",
     "output_type": "stream",
     "text": [
      "Training Once:\n",
      "Accuracy: 0.9849046610169492\n",
      "Log Loss: 0.5213745377409736\n",
      "Training Once:\n",
      "Accuracy: 0.9842425847457628\n",
      "Log Loss: 0.5442418420278583\n",
      "Training Once:\n",
      "Accuracy: 0.9847722457627118\n",
      "Log Loss: 0.5259479985983506\n"
     ]
    }
   ],
   "source": [
    "from sklearn.decomposition import PCA\n",
    "\n",
    "n_components = 50\n",
    "pca = PCA(n_components=n_components, svd_solver='randomized')\n",
    "\n",
    "for train, test in cv_object.split(X,y):\n",
    "    print ('Training Once:')\n",
    "    \n",
    "    # transform the data using pca\n",
    "    pca.fit(X_train)\n",
    "    X_train = pca.transform(X_train)\n",
    "    X_test = pca.transform(X_test)\n",
    "    \n",
    "    # train the decision tree algorithm\n",
    "    dt_clf.fit(X_train,y_train)\n",
    "    yhat = dt_clf.predict(X_test)\n",
    "    class_probabilities = dt_clf.predict_proba(X_test)\n",
    "    \n",
    "    print ('Accuracy:', mt.accuracy_score(y_test,yhat))\n",
    "    print ('Log Loss:', multiclass_log_loss(y_test, class_probabilities))"
   ]
  },
  {
   "cell_type": "code",
   "execution_count": 68,
   "metadata": {},
   "outputs": [
    {
     "ename": "AttributeError",
     "evalue": "module 'sklearn.tree' has no attribute 'plot_tree'",
     "output_type": "error",
     "traceback": [
      "\u001b[1;31m---------------------------------------------------------------------------\u001b[0m",
      "\u001b[1;31mAttributeError\u001b[0m                            Traceback (most recent call last)",
      "\u001b[1;32m<ipython-input-68-3ecd2860c120>\u001b[0m in \u001b[0;36m<module>\u001b[1;34m\u001b[0m\n\u001b[0;32m     10\u001b[0m \u001b[1;33m\u001b[0m\u001b[0m\n\u001b[0;32m     11\u001b[0m \u001b[0mplt\u001b[0m\u001b[1;33m.\u001b[0m\u001b[0mfigure\u001b[0m\u001b[1;33m(\u001b[0m\u001b[0mfigsize\u001b[0m\u001b[1;33m=\u001b[0m\u001b[1;33m(\u001b[0m\u001b[1;36m20\u001b[0m\u001b[1;33m,\u001b[0m\u001b[1;36m10\u001b[0m\u001b[1;33m)\u001b[0m\u001b[1;33m)\u001b[0m\u001b[1;33m\u001b[0m\u001b[1;33m\u001b[0m\u001b[0m\n\u001b[1;32m---> 12\u001b[1;33m \u001b[0mtree\u001b[0m\u001b[1;33m.\u001b[0m\u001b[0mplot_tree\u001b[0m\u001b[1;33m(\u001b[0m\u001b[0mfig\u001b[0m\u001b[1;33m,\u001b[0m\u001b[0mlabel\u001b[0m\u001b[1;33m=\u001b[0m\u001b[1;34m'root'\u001b[0m\u001b[1;33m,\u001b[0m\u001b[0mnode_ids\u001b[0m\u001b[1;33m=\u001b[0m\u001b[1;32mTrue\u001b[0m\u001b[1;33m,\u001b[0m\u001b[0mfontsize\u001b[0m\u001b[1;33m=\u001b[0m\u001b[1;36m11\u001b[0m\u001b[1;33m,\u001b[0m\u001b[0mrotate\u001b[0m\u001b[1;33m=\u001b[0m\u001b[1;32mTrue\u001b[0m\u001b[1;33m)\u001b[0m\u001b[1;33m\u001b[0m\u001b[1;33m\u001b[0m\u001b[0m\n\u001b[0m\u001b[0;32m     13\u001b[0m \u001b[1;33m\u001b[0m\u001b[0m\n\u001b[0;32m     14\u001b[0m \u001b[0mplt\u001b[0m\u001b[1;33m.\u001b[0m\u001b[0mshow\u001b[0m\u001b[1;33m(\u001b[0m\u001b[1;33m)\u001b[0m\u001b[1;33m\u001b[0m\u001b[1;33m\u001b[0m\u001b[0m\n",
      "\u001b[1;31mAttributeError\u001b[0m: module 'sklearn.tree' has no attribute 'plot_tree'"
     ]
    },
    {
     "data": {
      "text/plain": [
       "<Figure size 1440x720 with 0 Axes>"
      ]
     },
     "metadata": {},
     "output_type": "display_data"
    }
   ],
   "source": [
    "#drawing a decision tree (partial tree)\n",
    "%matplotlib inline\n",
    "from sklearn import tree\n",
    "from matplotlib import pyplot as plt\n",
    "from sklearn.tree import DecisionTreeClassifier\n",
    "\n",
    "\n",
    "dt_clf=DecisionTreeClassifier(max_depth =4)\n",
    "fig=dt_clf.fit(X_train,y_train)\n",
    "\n",
    "plt.figure(figsize=(20,10))\n",
    "tree.plot_tree(fig,label='root',node_ids=True,fontsize=11,rotate=True)\n",
    "\n",
    "plt.show()\n"
   ]
  },
  {
   "cell_type": "code",
   "execution_count": 69,
   "metadata": {},
   "outputs": [],
   "source": [
    "##splitting prection from predictor variables\n",
    "from sklearn.preprocessing import Imputer\n",
    "from sklearn.model_selection import ShuffleSplit\n",
    "\n",
    "# we want to predict the X and y data as follows:\n",
    "\n",
    "if 'perf_score' in df_data:\n",
    "    y = df_data['score_levels'].values # get the labels we want\n",
    "    del df_data['score_levels'] # get rid of the class label\n",
    "    X = df_data.values # use everything else to predict!\n",
    "\n",
    "\n",
    "    ## X and y are now numpy matrices, by calling 'values' on the pandas data frames we\n",
    "    #    have converted them into simple matrices to use with scikit learn\n",
    "    \n",
    "\n",
    "# to use the cross validation object in scikit learn, we need to grab an instance\n",
    "#    of the object and set it up. This object will be able to split our data into \n",
    "#    training and testing splits\n",
    "num_cv_iterations = 3\n",
    "num_instances = len(y)\n",
    "cv_object = ShuffleSplit(n_splits=num_cv_iterations,\n",
    "                         test_size  = 0.2)\n"
   ]
  },
  {
   "cell_type": "code",
   "execution_count": 70,
   "metadata": {},
   "outputs": [],
   "source": [
    "for train_indices, test_indices in cv_object.split(X,y): \n",
    "    # I will create new variables here so that it is more obvious what \n",
    "    # the code is doing (you can compact this syntax and avoid duplicating memory,\n",
    "    # but it makes this code less readable)\n",
    "    X_train = X[train_indices]\n",
    "    y_train = y[train_indices]\n",
    "    \n",
    "    X_test = X[test_indices]\n",
    "    y_test = y[test_indices]"
   ]
  },
  {
   "cell_type": "code",
   "execution_count": 71,
   "metadata": {},
   "outputs": [
    {
     "name": "stderr",
     "output_type": "stream",
     "text": [
      "C:\\Users\\jazis\\AppData\\Local\\Continuum\\anaconda3\\lib\\site-packages\\sklearn\\utils\\deprecation.py:58: DeprecationWarning: Class Imputer is deprecated; Imputer was deprecated in version 0.20 and will be removed in 0.22. Import impute.SimpleImputer from sklearn instead.\n",
      "  warnings.warn(msg, category=DeprecationWarning)\n"
     ]
    }
   ],
   "source": [
    "#Missing Values Imputation\n",
    "from sklearn.preprocessing import Imputer\n",
    "imp = Imputer(missing_values=np.nan, strategy='median', axis = 0)\n",
    "#Impute missing values for the train set\n",
    "imputer = imp.fit(X_train[:, :-1])\n",
    "X_train[:, :-1] = imputer.transform(X_train[:, :-1])\n",
    "\n",
    "#Impute missing values for the test set\n",
    "imputer = imp.fit(X_test[:, :-1])\n",
    "X_test[:, :-1] = imputer.transform(X_test[:, :-1])"
   ]
  },
  {
   "cell_type": "code",
   "execution_count": 72,
   "metadata": {},
   "outputs": [
    {
     "name": "stdout",
     "output_type": "stream",
     "text": [
      "Training Once:\n",
      "Wall time: 582 ms\n",
      "accuracy: 0.9858315677966102\n",
      "Training Once:\n",
      "Wall time: 599 ms\n",
      "accuracy: 0.9855667372881356\n",
      "Training Once:\n",
      "Wall time: 553 ms\n",
      "accuracy: 0.9854343220338984\n"
     ]
    }
   ],
   "source": [
    "from sklearn.tree import DecisionTreeClassifier\n",
    "from sklearn import metrics as mt\n",
    "\n",
    "dt_clf=DecisionTreeClassifier()\n",
    "for train, test in cv_object.split(X,y):\n",
    "    print ('Training Once:')\n",
    "    # train the decision tree algorithm\n",
    "    %time dt_clf.fit(X_train,y_train)\n",
    "    yhat = dt_clf.predict(X_test)\n",
    "    print ('accuracy:', mt.accuracy_score(y_test,yhat))"
   ]
  },
  {
   "cell_type": "code",
   "execution_count": 73,
   "metadata": {},
   "outputs": [
    {
     "name": "stdout",
     "output_type": "stream",
     "text": [
      "Accuracy: 0.9854343220338984\n",
      "Log Loss: 0.5030806943114658\n"
     ]
    }
   ],
   "source": [
    "yhat = dt_clf.predict(X_test)\n",
    "class_probabilities = dt_clf.predict_proba(X_test)\n",
    "print ('Accuracy:', mt.accuracy_score(y_test,yhat))\n",
    "print ('Log Loss:', multiclass_log_loss(y_test, class_probabilities))"
   ]
  },
  {
   "cell_type": "code",
   "execution_count": 74,
   "metadata": {},
   "outputs": [
    {
     "name": "stdout",
     "output_type": "stream",
     "text": [
      "Training Once:\n",
      "Accuracy: 0.9855667372881356\n",
      "Log Loss: 0.4985072334540889\n",
      "              precision    recall  f1-score   support\n",
      "\n",
      "           0       0.55      0.48      0.51        25\n",
      "           1       0.46      0.54      0.50        99\n",
      "           2       0.99      0.99      0.99      7428\n",
      "\n",
      "   micro avg       0.99      0.99      0.99      7552\n",
      "   macro avg       0.67      0.67      0.67      7552\n",
      "weighted avg       0.99      0.99      0.99      7552\n",
      "\n",
      "Training Once:\n",
      "Accuracy: 0.9854343220338984\n",
      "Log Loss: 0.5030806943114658\n",
      "              precision    recall  f1-score   support\n",
      "\n",
      "           0       0.58      0.56      0.57        25\n",
      "           1       0.47      0.55      0.50        99\n",
      "           2       0.99      0.99      0.99      7428\n",
      "\n",
      "   micro avg       0.99      0.99      0.99      7552\n",
      "   macro avg       0.68      0.70      0.69      7552\n",
      "weighted avg       0.99      0.99      0.99      7552\n",
      "\n",
      "Training Once:\n",
      "Accuracy: 0.9845074152542372\n",
      "Log Loss: 0.5350949203131045\n",
      "              precision    recall  f1-score   support\n",
      "\n",
      "           0       0.57      0.48      0.52        25\n",
      "           1       0.44      0.53      0.48        99\n",
      "           2       0.99      0.99      0.99      7428\n",
      "\n",
      "   micro avg       0.98      0.98      0.98      7552\n",
      "   macro avg       0.67      0.67      0.66      7552\n",
      "weighted avg       0.99      0.98      0.99      7552\n",
      "\n"
     ]
    }
   ],
   "source": [
    "from sklearn.decomposition import PCA\n",
    "\n",
    "n_components = 50\n",
    "pca = PCA(n_components=n_components, svd_solver='randomized')\n",
    "\n",
    "for train, test in cv_object.split(X,y):\n",
    "    print ('Training Once:')\n",
    "    \n",
    "    # transform the data using pca\n",
    "    pca.fit(X_train)\n",
    "    X_train = pca.transform(X_train)\n",
    "    X_test = pca.transform(X_test)\n",
    "    \n",
    "    # train the decision tree algorithm\n",
    "    dt_clf.fit(X_train,y_train)\n",
    "    yhat = dt_clf.predict(X_test)\n",
    "    class_probabilities = dt_clf.predict_proba(X_test)\n",
    "    \n",
    "    print ('Accuracy:', mt.accuracy_score(y_test,yhat))\n",
    "    print ('Log Loss:', multiclass_log_loss(y_test, class_probabilities))\n",
    "    cr = mt.classification_report(y_test, yhat)\n",
    "    print(cr)"
   ]
  },
  {
   "cell_type": "code",
   "execution_count": 75,
   "metadata": {},
   "outputs": [
    {
     "ename": "AttributeError",
     "evalue": "module 'sklearn.tree' has no attribute 'plot_tree'",
     "output_type": "error",
     "traceback": [
      "\u001b[1;31m---------------------------------------------------------------------------\u001b[0m",
      "\u001b[1;31mAttributeError\u001b[0m                            Traceback (most recent call last)",
      "\u001b[1;32m<ipython-input-75-cf2cb26e7554>\u001b[0m in \u001b[0;36m<module>\u001b[1;34m\u001b[0m\n\u001b[0;32m     10\u001b[0m \u001b[0mplt\u001b[0m\u001b[1;33m.\u001b[0m\u001b[0mfigure\u001b[0m\u001b[1;33m(\u001b[0m\u001b[0mfigsize\u001b[0m\u001b[1;33m=\u001b[0m\u001b[1;33m(\u001b[0m\u001b[1;36m20\u001b[0m\u001b[1;33m,\u001b[0m\u001b[1;36m10\u001b[0m\u001b[1;33m)\u001b[0m\u001b[1;33m)\u001b[0m\u001b[1;33m\u001b[0m\u001b[1;33m\u001b[0m\u001b[0m\n\u001b[0;32m     11\u001b[0m \u001b[1;33m\u001b[0m\u001b[0m\n\u001b[1;32m---> 12\u001b[1;33m \u001b[0mtree\u001b[0m\u001b[1;33m.\u001b[0m\u001b[0mplot_tree\u001b[0m\u001b[1;33m(\u001b[0m\u001b[0mfig\u001b[0m\u001b[1;33m,\u001b[0m\u001b[0mlabel\u001b[0m\u001b[1;33m=\u001b[0m\u001b[1;34m'root'\u001b[0m\u001b[1;33m,\u001b[0m\u001b[0mnode_ids\u001b[0m\u001b[1;33m=\u001b[0m\u001b[1;32mTrue\u001b[0m\u001b[1;33m,\u001b[0m\u001b[0mfontsize\u001b[0m\u001b[1;33m=\u001b[0m\u001b[1;36m11\u001b[0m\u001b[1;33m,\u001b[0m\u001b[0mrotate\u001b[0m\u001b[1;33m=\u001b[0m\u001b[1;32mTrue\u001b[0m\u001b[1;33m)\u001b[0m\u001b[1;33m\u001b[0m\u001b[1;33m\u001b[0m\u001b[0m\n\u001b[0m\u001b[0;32m     13\u001b[0m \u001b[1;33m\u001b[0m\u001b[0m\n\u001b[0;32m     14\u001b[0m \u001b[0mplt\u001b[0m\u001b[1;33m.\u001b[0m\u001b[0mshow\u001b[0m\u001b[1;33m(\u001b[0m\u001b[1;33m)\u001b[0m\u001b[1;33m\u001b[0m\u001b[1;33m\u001b[0m\u001b[0m\n",
      "\u001b[1;31mAttributeError\u001b[0m: module 'sklearn.tree' has no attribute 'plot_tree'"
     ]
    },
    {
     "data": {
      "text/plain": [
       "<Figure size 1440x720 with 0 Axes>"
      ]
     },
     "metadata": {},
     "output_type": "display_data"
    }
   ],
   "source": [
    "#drawing a decision tree (partial tree)\n",
    "%matplotlib inline\n",
    "from sklearn import tree\n",
    "from matplotlib import pyplot as plt\n",
    "from sklearn.tree import DecisionTreeClassifier\n",
    "\n",
    "dt_clf=DecisionTreeClassifier(max_depth =4)\n",
    "fig=dt_clf.fit(X_train,y_train)\n",
    "\n",
    "plt.figure(figsize=(20,10))\n",
    "\n",
    "tree.plot_tree(fig,label='root',node_ids=True,fontsize=11,rotate=True)\n",
    "\n",
    "plt.show()"
   ]
  },
  {
   "cell_type": "code",
   "execution_count": null,
   "metadata": {},
   "outputs": [],
   "source": [
    "print(df.columns)"
   ]
  },
  {
   "cell_type": "markdown",
   "metadata": {},
   "source": [
    "__Assessing Decision Tree Classification Accuracy__  \n",
    "In the first decision tree, we were classifying a binary variable 'perf_score' with an accuracy of 0.81 and a log loss of 6.6 through 3 iterations. Plotting the result with a node depth of 4 showed that there were room for improvement. At node 29 in row 4, it had the lowest gini score of 0.053 compare to the others at the same row level.\n",
    "For the second decision tree, we created a 3-level categorical variable 'score_levels' to sort the rating into (0-<33) as 0, (33-<67) as 1 and (>=67) as 2. Re-ran the decision tree to classify 'score_levels' yielded a accuracy of 0.99 and a log loss of 0.46 through 3 iteratios. Plotting the result with the same node depth, we could see that some nodes were able to fully classify the observations into one of the three categories such as Node(s) : 4, 7, 19, 23, 26, 27, 30 with a Gini score of 0."
   ]
  },
  {
   "cell_type": "markdown",
   "metadata": {},
   "source": [
    "__Comparing models:__ \n",
    " - KNN and the decision tree were much faster alternatives than the SVM, but the decision tree yielded much poorer accuracy than KNN. SVM did not provide significant greater accuracy than KNN, meaning KNN is the most economical technique that we considered. The F1-score of KNN was 1.00, and 0.99 of SVM. The decision tree had a score of 0.84. \n",
    " \n",
    "  - KNN: This model is advantageous because it requires no assumptions and works well with multiple classes. However, KNN models are more computationally intesive, the optimal number of neighbors has to be chosen when building the model (which may not always be known in advance), they are sentive to outliers, and they do not perform well with imbalanced data. \n",
    " ---once able to render can add these metrics: accuracy, precision, recall, F-1, and support \n",
    " \n",
    " - Decision Tree: An advantage of decision trees for classification is that they do not require your data to be normalized or scaled, they are forgiving of missing values, and they are easier to visualize and explain. A few disadvantages of decision trees are that they takes a bit longer to train, a small change in the training data can result in a major structural change of the tree, and the calculations for this model can get rather complex even though visually the resulting tree is fairly easy to conceptualize. For our classification, this model had an overall weighted average F1-score of 96%. However, in terms of classifying each class, this model was not very successful in classifying the \"low\" and medium\" ratings with F1-scores of 0% and 2%, respectively. Precision and recall for \"low\" ratings were both 0%. \"Medium\" ratings had a precision of 1% and a recall of 2%. Even though, the model had high accuracy, it's inability to successfull classify lower ratings would not make this an ideal model. \n",
    " \n",
    " - SVM: SVM works well on datasets that are not large, but have many dimensions. SVM is also more memory efficient than the other models. However, SVM does not work as well when the classes overlap or there are not clear margins of seperation between classes. For our classification, this model had an overall weighted average F1-score of 99%. Like the previous two models, it classified \"high\" ratings best with an F1-score, precion, and recall all of 99%. It was better than the decision tree in classifying \"low\" and \"medium\" ratings with F1-scores of 68% and 55%, respectively. This model had fewer false negatives when classifying \"medium\" ratings and fewer false positives when classifying \"low\" ratings.\n",
    " \n",
    " \n",
    "References:\n",
    " - https://medium.com/@dhiraj8899/top-4-advantages-and-disadvantages-of-support-vector-machine-or-svm-a3c06a2b107\n",
    " - https://medium.com/@dhiraj8899/top-5-advantages-and-disadvantages-of-decision-tree-algorithm-428ebd199d9a\n",
    " - https://www.fromthegenesis.com/pros-and-cons-of-k-nearest-neighbors/\n",
    "\n",
    "__Important features:__ \n",
    "\n",
    " - The initial splits in the decision tree were on the predictors \"cleaning fee\", \"latitude\", and \"host identity verified\", suggesting that these predictors have the greatest differential impact on review level. \n",
    " - Cleaning fee can indicate how well the place is kept clean which would impact customer experience\n",
    " - Latitude provides information on where the listing is located which could impact reviews (better locations lead to better experiences)\n",
    " - Hosts that verify their identity are possibly more likely to have experience and be thorough/thoughtful hosts.\n",
    " \n",
    "__Deployment__: \n",
    "\n",
    " - This model can help hosts understand what factors contribute most to a high review score (especially since the model is more accurate at predicting high scores), allowing hosts to become more hospitable\n",
    " - The model value can be measured by tracking trends of the host's review score over time to see if they have made improvements\n",
    " - This model would be best deployed on the host's view of their profile so they can manage their accomodations to be competitive to others in the market\n",
    " - The model would not have to be updated frequently because it predicts an aggregate score; a quarterly refresh is reasonable\n",
    " - Other beneficial data to collect is whether guests are repeat visitor's or not; this would most likely skew results positively"
   ]
  }
 ],
 "metadata": {
  "kernelspec": {
   "display_name": "Python 3",
   "language": "python",
   "name": "python3"
  },
  "language_info": {
   "codemirror_mode": {
    "name": "ipython",
    "version": 3
   },
   "file_extension": ".py",
   "mimetype": "text/x-python",
   "name": "python",
   "nbconvert_exporter": "python",
   "pygments_lexer": "ipython3",
   "version": "3.7.3"
  }
 },
 "nbformat": 4,
 "nbformat_minor": 2
}
