{
 "cells": [
  {
   "cell_type": "code",
   "execution_count": 7,
   "metadata": {},
   "outputs": [],
   "source": [
    "import pandas as pd\n",
    "import numpy as np\n",
    "from decimal import Decimal\n",
    "import seaborn as sns\n",
    "from sklearn.linear_model import LogisticRegression\n",
    "from sklearn.model_selection import train_test_split\n",
    "from sklearn.metrics import confusion_matrix\n",
    " \n",
    "data = pd.read_csv(\"/Users/ksomes/Downloads/listings.csv\") \n",
    "\n",
    "#data cleaning from LAB1\n",
    "#drop redundant info and fields not useful for analysis\n",
    "sub=data.drop(['id','listing_url','scrape_id','last_scraped','summary','space','description','experiences_offered'\n",
    "              , 'neighborhood_overview', 'notes', 'transit', 'access', 'interaction', 'house_rules',\n",
    "              'thumbnail_url', 'medium_url', 'picture_url', 'xl_picture_url', 'host_url', 'host_thumbnail_url',\n",
    "              'host_picture_url', 'country_code', 'country','amenities', 'minimum_minimum_nights',\n",
    "              'maximum_minimum_nights','minimum_maximum_nights', 'maximum_maximum_nights','minimum_nights_avg_ntm',\n",
    "              'maximum_nights_avg_ntm', 'availability_30', 'availability_365','availability_90','has_availability',\n",
    "               'calculated_host_listings_count','calculated_host_listings_count_shared_rooms',\n",
    "               'is_business_travel_ready','host_about', 'host_acceptance_rate', 'host_total_listings_count',\n",
    "              'jurisdiction_names','license','monthly_price','square_feet','weekly_price', 'requires_license'], axis=1)\n",
    "def money_to_decimal(x):\n",
    "    x = x.replace(\"$\", \"\").replace(\",\", \"\").replace(\" \", \"\")\n",
    "    return float(x)\n",
    "def rem_percent(x):\n",
    "    x=x.replace(\"%\",\"\")\n",
    "    return float(x)/100\n",
    "def truncate(n):\n",
    "    return int(n * 1000) / 1000\n",
    "#converts objects with money values into decimal values to become continous attribute\n",
    "sub.cleaning_fee = sub.cleaning_fee.astype(str)\n",
    "sub.extra_people = sub.extra_people.astype(str)\n",
    "sub.security_deposit = sub.security_deposit.astype(str)\n",
    "sub.price = sub.price.astype(str)\n",
    "sub.loc[:,'price'] = sub.loc[:,'price'].apply(money_to_decimal)\n",
    "sub.loc[:,'cleaning_fee'] = sub.loc[:,'cleaning_fee'].apply(money_to_decimal)\n",
    "sub.loc[:,'extra_people'] = sub.loc[:,'extra_people'].apply(money_to_decimal)\n",
    "sub.loc[:,'security_deposit'] = sub.loc[:,'security_deposit'].apply(money_to_decimal)\n",
    "\n",
    "#imputations\n",
    "sub['price']=sub.price.mask(sub.price == 0,sub.price.median())\n",
    "sub.cleaning_fee=sub.cleaning_fee.fillna(sub.cleaning_fee.median())\n",
    "sub.first_review=sub.first_review.fillna('2019-08-01')\n",
    "sub['first_review'] =  pd.to_datetime(sub['first_review'],\n",
    "                              format='%Y-%m-%d')\n",
    "sub.host_response_rate = sub.host_response_rate.astype(str)\n",
    "sub.loc[:,'host_response_rate'] = sub.loc[:, 'host_response_rate'].apply(rem_percent)\n",
    "sub.host_response_rate=sub.host_response_rate.fillna(sub.host_response_rate.median())\n",
    "sub['host_since'] =  pd.to_datetime(sub['host_since'],\n",
    "                              format='%Y-%m-%d')\n",
    "sub.last_review=sub.last_review.fillna('2019-08-01')\n",
    "sub['last_review'] =  pd.to_datetime(sub['last_review'],\n",
    "                              format='%Y-%m-%d')\n",
    "sub.review_scores_accuracy=sub.review_scores_accuracy.fillna(truncate(sub.review_scores_accuracy.median()))\n",
    "sub.review_scores_checkin=sub.review_scores_checkin.fillna(truncate(sub.review_scores_checkin.median()))\n",
    "sub.review_scores_cleanliness=sub.review_scores_cleanliness.fillna(truncate(sub.review_scores_cleanliness.median()))\n",
    "sub.review_scores_communication=sub.review_scores_communication.fillna(truncate(sub.review_scores_communication.median()))\n",
    "sub.review_scores_location=sub.review_scores_location.fillna(truncate(sub.review_scores_location.median()))\n",
    "#sub.review_scores_rating=sub.review_scores_rating.fillna(truncate(sub.review_scores_rating.median()))\n",
    "sub.review_scores_value=sub.review_scores_value.fillna(truncate(sub.review_scores_value.median()))\n",
    "sub.reviews_per_month=sub.reviews_per_month.fillna(sub.reviews_per_month.median())\n",
    "sub.security_deposit=sub.security_deposit.fillna(sub.security_deposit.median())\n"
   ]
  },
  {
   "cell_type": "code",
   "execution_count": 54,
   "metadata": {},
   "outputs": [
    {
     "name": "stderr",
     "output_type": "stream",
     "text": [
      "/Users/ksomes/anaconda3/lib/python3.7/site-packages/ipykernel_launcher.py:2: SettingWithCopyWarning: \n",
      "A value is trying to be set on a copy of a slice from a DataFrame.\n",
      "Try using .loc[row_indexer,col_indexer] = value instead\n",
      "\n",
      "See the caveats in the documentation: http://pandas.pydata.org/pandas-docs/stable/indexing.html#indexing-view-versus-copy\n",
      "  \n",
      "/Users/ksomes/anaconda3/lib/python3.7/site-packages/ipykernel_launcher.py:5: SettingWithCopyWarning: \n",
      "A value is trying to be set on a copy of a slice from a DataFrame.\n",
      "Try using .loc[row_indexer,col_indexer] = value instead\n",
      "\n",
      "See the caveats in the documentation: http://pandas.pydata.org/pandas-docs/stable/indexing.html#indexing-view-versus-copy\n",
      "  \"\"\"\n",
      "/Users/ksomes/anaconda3/lib/python3.7/site-packages/ipykernel_launcher.py:6: SettingWithCopyWarning: \n",
      "A value is trying to be set on a copy of a slice from a DataFrame.\n",
      "Try using .loc[row_indexer,col_indexer] = value instead\n",
      "\n",
      "See the caveats in the documentation: http://pandas.pydata.org/pandas-docs/stable/indexing.html#indexing-view-versus-copy\n",
      "  \n"
     ]
    }
   ],
   "source": [
    "df = sub[~sub['review_scores_rating'].isnull()]\n",
    "df['perf_score'] = np.where(df['review_scores_rating']==100, 1, 0)\n",
    "df.perf_score.sum()\n",
    "df_data=df.drop('perf_score', axis=1)\n",
    "df['zipcode'] = df['zipcode'].str.extract('(\\d+)', expand=False)\n",
    "df['zipcode'] = df['zipcode'].astype(float)\n",
    "df_y=df['perf_score']\n",
    "\n",
    "#create dummy vars\n",
    "host_loc = pd.get_dummies(df_data['host_location'],drop_first=True)\n",
    "host_response = pd.get_dummies(df_data['host_response_time'],drop_first=True)\n",
    "host_neigh = pd.get_dummies(df_data['host_neighbourhood'],drop_first=True)\n",
    "host_verif = pd.get_dummies(df_data['host_verifications'],drop_first=True)\n",
    "host_ident = pd.get_dummies(df_data['host_identity_verified'],drop_first=True)\n",
    "street = pd.get_dummies(df_data['street'],drop_first=True)\n",
    "neighborhood = pd.get_dummies(df_data['neighbourhood'],drop_first=True)\n",
    "city = pd.get_dummies(df_data['city'],drop_first=True)\n",
    "# make into continuous zipcode = pd.get_dummies(x_train['zipcode'],drop_first=True)\n",
    "market = pd.get_dummies(df_data['market'],drop_first=True)\n",
    "loc_exact = pd.get_dummies(df_data['is_location_exact'],drop_first=True)\n",
    "prop_type = pd.get_dummies(df_data['property_type'],drop_first=True)\n",
    "room_type = pd.get_dummies(df_data['room_type'],drop_first=True)\n",
    "bed_type = pd.get_dummies(df_data['bed_type'],drop_first=True)\n",
    "instant = pd.get_dummies(df_data['instant_bookable'],drop_first=True)\n",
    "cancel = pd.get_dummies(df_data['cancellation_policy'],drop_first=True)\n",
    "\n",
    "df_data.drop(['host_location','host_response_time','host_neighbourhood','host_verifications',\n",
    "             'host_identity_verified', 'street', 'neighbourhood', 'city', 'market', \n",
    "             'is_location_exact', 'property_type', 'room_type', 'bed_type', 'instant_bookable',\n",
    "             'cancellation_policy', 'name', 'host_name', 'host_has_profile_pic', 'neighbourhood_cleansed',\n",
    "             'neighbourhood_group_cleansed', 'smart_location', 'calendar_updated',\n",
    "             'calendar_last_scraped','require_guest_profile_picture', 'require_guest_phone_verification',\n",
    "             'host_since', 'first_review', 'last_review', 'state', 'smart_location'],axis=1,inplace=True)\n",
    "\n",
    "df_data = pd.concat([df_data,host_loc, host_response, host_neigh, host_verif, host_ident,\n",
    "                    street, neighborhood, city, market, loc_exact, prop_type, room_type,\n",
    "                    bed_type, instant, cancel],axis=1)\n",
    "\n",
    "x_train, x_test, y_train, y_test = train_test_split(df_data, df_y, test_size=0.2)\n"
   ]
  },
  {
   "cell_type": "code",
   "execution_count": 48,
   "metadata": {},
   "outputs": [
    {
     "name": "stdout",
     "output_type": "stream",
     "text": [
      "<class 'pandas.core.frame.DataFrame'>\n",
      "Int64Index: 37760 entries, 0 to 48745\n",
      "Data columns (total 61 columns):\n",
      "name                                            37754 non-null object\n",
      "host_id                                         37760 non-null int64\n",
      "host_name                                       37746 non-null object\n",
      "host_since                                      37746 non-null datetime64[ns]\n",
      "host_location                                   37660 non-null object\n",
      "host_response_time                              27160 non-null object\n",
      "host_response_rate                              37760 non-null float64\n",
      "host_is_superhost                               37746 non-null object\n",
      "host_neighbourhood                              32903 non-null object\n",
      "host_listings_count                             37746 non-null float64\n",
      "host_verifications                              37760 non-null object\n",
      "host_has_profile_pic                            37746 non-null object\n",
      "host_identity_verified                          37746 non-null object\n",
      "street                                          37760 non-null object\n",
      "neighbourhood                                   37752 non-null object\n",
      "neighbourhood_cleansed                          37760 non-null object\n",
      "neighbourhood_group_cleansed                    37760 non-null object\n",
      "city                                            37709 non-null object\n",
      "state                                           37756 non-null object\n",
      "zipcode                                         37373 non-null float64\n",
      "market                                          37682 non-null object\n",
      "smart_location                                  37760 non-null object\n",
      "latitude                                        37760 non-null float64\n",
      "longitude                                       37760 non-null float64\n",
      "is_location_exact                               37760 non-null object\n",
      "property_type                                   37760 non-null object\n",
      "room_type                                       37760 non-null object\n",
      "accommodates                                    37760 non-null int64\n",
      "bathrooms                                       37717 non-null float64\n",
      "bedrooms                                        37742 non-null float64\n",
      "beds                                            37742 non-null float64\n",
      "bed_type                                        37760 non-null object\n",
      "price                                           37760 non-null float64\n",
      "security_deposit                                37760 non-null float64\n",
      "cleaning_fee                                    37760 non-null float64\n",
      "guests_included                                 37760 non-null int64\n",
      "extra_people                                    37760 non-null float64\n",
      "minimum_nights                                  37760 non-null int64\n",
      "maximum_nights                                  37760 non-null int64\n",
      "calendar_updated                                37760 non-null object\n",
      "availability_60                                 37760 non-null int64\n",
      "calendar_last_scraped                           37760 non-null object\n",
      "number_of_reviews                               37760 non-null int64\n",
      "number_of_reviews_ltm                           37760 non-null int64\n",
      "first_review                                    37760 non-null datetime64[ns]\n",
      "last_review                                     37760 non-null datetime64[ns]\n",
      "review_scores_rating                            37760 non-null float64\n",
      "review_scores_accuracy                          37760 non-null float64\n",
      "review_scores_cleanliness                       37760 non-null float64\n",
      "review_scores_checkin                           37760 non-null float64\n",
      "review_scores_communication                     37760 non-null float64\n",
      "review_scores_location                          37760 non-null float64\n",
      "review_scores_value                             37760 non-null float64\n",
      "instant_bookable                                37760 non-null object\n",
      "cancellation_policy                             37760 non-null object\n",
      "require_guest_profile_picture                   37760 non-null object\n",
      "require_guest_phone_verification                37760 non-null object\n",
      "calculated_host_listings_count_entire_homes     37760 non-null int64\n",
      "calculated_host_listings_count_private_rooms    37760 non-null int64\n",
      "reviews_per_month                               37760 non-null float64\n",
      "perf_score                                      37760 non-null int64\n",
      "dtypes: datetime64[ns](3), float64(20), int64(11), object(27)\n",
      "memory usage: 17.9+ MB\n"
     ]
    }
   ],
   "source": [
    "df.info()\n"
   ]
  },
  {
   "cell_type": "code",
   "execution_count": 55,
   "metadata": {
    "scrolled": true
   },
   "outputs": [
    {
     "name": "stderr",
     "output_type": "stream",
     "text": [
      "/Users/ksomes/anaconda3/lib/python3.7/site-packages/sklearn/linear_model/logistic.py:433: FutureWarning: Default solver will be changed to 'lbfgs' in 0.22. Specify a solver to silence this warning.\n",
      "  FutureWarning)\n"
     ]
    },
    {
     "ename": "ValueError",
     "evalue": "could not convert string to float: 'f'",
     "output_type": "error",
     "traceback": [
      "\u001b[0;31m---------------------------------------------------------------------------\u001b[0m",
      "\u001b[0;31mValueError\u001b[0m                                Traceback (most recent call last)",
      "\u001b[0;32m<ipython-input-55-9427dcdc7da0>\u001b[0m in \u001b[0;36m<module>\u001b[0;34m\u001b[0m\n\u001b[1;32m      1\u001b[0m \u001b[0mlr\u001b[0m \u001b[0;34m=\u001b[0m \u001b[0mLogisticRegression\u001b[0m\u001b[0;34m(\u001b[0m\u001b[0;34m)\u001b[0m\u001b[0;34m\u001b[0m\u001b[0;34m\u001b[0m\u001b[0m\n\u001b[0;32m----> 2\u001b[0;31m \u001b[0mlr\u001b[0m\u001b[0;34m.\u001b[0m\u001b[0mfit\u001b[0m\u001b[0;34m(\u001b[0m\u001b[0mx_train\u001b[0m\u001b[0;34m,\u001b[0m \u001b[0my_train\u001b[0m\u001b[0;34m)\u001b[0m\u001b[0;34m\u001b[0m\u001b[0;34m\u001b[0m\u001b[0m\n\u001b[0m\u001b[1;32m      3\u001b[0m \u001b[0mprint\u001b[0m\u001b[0;34m(\u001b[0m\u001b[0mlr\u001b[0m\u001b[0;34m.\u001b[0m\u001b[0mcoef_\u001b[0m\u001b[0;34m)\u001b[0m\u001b[0;34m\u001b[0m\u001b[0;34m\u001b[0m\u001b[0m\n\u001b[1;32m      4\u001b[0m \u001b[0mprint\u001b[0m\u001b[0;34m(\u001b[0m\u001b[0mlr\u001b[0m\u001b[0;34m.\u001b[0m\u001b[0mintercept_\u001b[0m\u001b[0;34m)\u001b[0m\u001b[0;34m\u001b[0m\u001b[0;34m\u001b[0m\u001b[0m\n",
      "\u001b[0;32m~/anaconda3/lib/python3.7/site-packages/sklearn/linear_model/logistic.py\u001b[0m in \u001b[0;36mfit\u001b[0;34m(self, X, y, sample_weight)\u001b[0m\n\u001b[1;32m   1286\u001b[0m \u001b[0;34m\u001b[0m\u001b[0m\n\u001b[1;32m   1287\u001b[0m         X, y = check_X_y(X, y, accept_sparse='csr', dtype=_dtype, order=\"C\",\n\u001b[0;32m-> 1288\u001b[0;31m                          accept_large_sparse=solver != 'liblinear')\n\u001b[0m\u001b[1;32m   1289\u001b[0m         \u001b[0mcheck_classification_targets\u001b[0m\u001b[0;34m(\u001b[0m\u001b[0my\u001b[0m\u001b[0;34m)\u001b[0m\u001b[0;34m\u001b[0m\u001b[0;34m\u001b[0m\u001b[0m\n\u001b[1;32m   1290\u001b[0m         \u001b[0mself\u001b[0m\u001b[0;34m.\u001b[0m\u001b[0mclasses_\u001b[0m \u001b[0;34m=\u001b[0m \u001b[0mnp\u001b[0m\u001b[0;34m.\u001b[0m\u001b[0munique\u001b[0m\u001b[0;34m(\u001b[0m\u001b[0my\u001b[0m\u001b[0;34m)\u001b[0m\u001b[0;34m\u001b[0m\u001b[0;34m\u001b[0m\u001b[0m\n",
      "\u001b[0;32m~/anaconda3/lib/python3.7/site-packages/sklearn/utils/validation.py\u001b[0m in \u001b[0;36mcheck_X_y\u001b[0;34m(X, y, accept_sparse, accept_large_sparse, dtype, order, copy, force_all_finite, ensure_2d, allow_nd, multi_output, ensure_min_samples, ensure_min_features, y_numeric, warn_on_dtype, estimator)\u001b[0m\n\u001b[1;32m    754\u001b[0m                     \u001b[0mensure_min_features\u001b[0m\u001b[0;34m=\u001b[0m\u001b[0mensure_min_features\u001b[0m\u001b[0;34m,\u001b[0m\u001b[0;34m\u001b[0m\u001b[0;34m\u001b[0m\u001b[0m\n\u001b[1;32m    755\u001b[0m                     \u001b[0mwarn_on_dtype\u001b[0m\u001b[0;34m=\u001b[0m\u001b[0mwarn_on_dtype\u001b[0m\u001b[0;34m,\u001b[0m\u001b[0;34m\u001b[0m\u001b[0;34m\u001b[0m\u001b[0m\n\u001b[0;32m--> 756\u001b[0;31m                     estimator=estimator)\n\u001b[0m\u001b[1;32m    757\u001b[0m     \u001b[0;32mif\u001b[0m \u001b[0mmulti_output\u001b[0m\u001b[0;34m:\u001b[0m\u001b[0;34m\u001b[0m\u001b[0;34m\u001b[0m\u001b[0m\n\u001b[1;32m    758\u001b[0m         y = check_array(y, 'csr', force_all_finite=True, ensure_2d=False,\n",
      "\u001b[0;32m~/anaconda3/lib/python3.7/site-packages/sklearn/utils/validation.py\u001b[0m in \u001b[0;36mcheck_array\u001b[0;34m(array, accept_sparse, accept_large_sparse, dtype, order, copy, force_all_finite, ensure_2d, allow_nd, ensure_min_samples, ensure_min_features, warn_on_dtype, estimator)\u001b[0m\n\u001b[1;32m    525\u001b[0m             \u001b[0;32mtry\u001b[0m\u001b[0;34m:\u001b[0m\u001b[0;34m\u001b[0m\u001b[0;34m\u001b[0m\u001b[0m\n\u001b[1;32m    526\u001b[0m                 \u001b[0mwarnings\u001b[0m\u001b[0;34m.\u001b[0m\u001b[0msimplefilter\u001b[0m\u001b[0;34m(\u001b[0m\u001b[0;34m'error'\u001b[0m\u001b[0;34m,\u001b[0m \u001b[0mComplexWarning\u001b[0m\u001b[0;34m)\u001b[0m\u001b[0;34m\u001b[0m\u001b[0;34m\u001b[0m\u001b[0m\n\u001b[0;32m--> 527\u001b[0;31m                 \u001b[0marray\u001b[0m \u001b[0;34m=\u001b[0m \u001b[0mnp\u001b[0m\u001b[0;34m.\u001b[0m\u001b[0masarray\u001b[0m\u001b[0;34m(\u001b[0m\u001b[0marray\u001b[0m\u001b[0;34m,\u001b[0m \u001b[0mdtype\u001b[0m\u001b[0;34m=\u001b[0m\u001b[0mdtype\u001b[0m\u001b[0;34m,\u001b[0m \u001b[0morder\u001b[0m\u001b[0;34m=\u001b[0m\u001b[0morder\u001b[0m\u001b[0;34m)\u001b[0m\u001b[0;34m\u001b[0m\u001b[0;34m\u001b[0m\u001b[0m\n\u001b[0m\u001b[1;32m    528\u001b[0m             \u001b[0;32mexcept\u001b[0m \u001b[0mComplexWarning\u001b[0m\u001b[0;34m:\u001b[0m\u001b[0;34m\u001b[0m\u001b[0;34m\u001b[0m\u001b[0m\n\u001b[1;32m    529\u001b[0m                 raise ValueError(\"Complex data not supported\\n\"\n",
      "\u001b[0;32m~/anaconda3/lib/python3.7/site-packages/numpy/core/numeric.py\u001b[0m in \u001b[0;36masarray\u001b[0;34m(a, dtype, order)\u001b[0m\n\u001b[1;32m    536\u001b[0m \u001b[0;34m\u001b[0m\u001b[0m\n\u001b[1;32m    537\u001b[0m     \"\"\"\n\u001b[0;32m--> 538\u001b[0;31m     \u001b[0;32mreturn\u001b[0m \u001b[0marray\u001b[0m\u001b[0;34m(\u001b[0m\u001b[0ma\u001b[0m\u001b[0;34m,\u001b[0m \u001b[0mdtype\u001b[0m\u001b[0;34m,\u001b[0m \u001b[0mcopy\u001b[0m\u001b[0;34m=\u001b[0m\u001b[0;32mFalse\u001b[0m\u001b[0;34m,\u001b[0m \u001b[0morder\u001b[0m\u001b[0;34m=\u001b[0m\u001b[0morder\u001b[0m\u001b[0;34m)\u001b[0m\u001b[0;34m\u001b[0m\u001b[0;34m\u001b[0m\u001b[0m\n\u001b[0m\u001b[1;32m    539\u001b[0m \u001b[0;34m\u001b[0m\u001b[0m\n\u001b[1;32m    540\u001b[0m \u001b[0;34m\u001b[0m\u001b[0m\n",
      "\u001b[0;31mValueError\u001b[0m: could not convert string to float: 'f'"
     ]
    }
   ],
   "source": [
    "lr = LogisticRegression()\n",
    "lr.fit(x_train, y_train)\n",
    "print(lr.coef_)\n",
    "print(lr.intercept_)"
   ]
  },
  {
   "cell_type": "code",
   "execution_count": 45,
   "metadata": {},
   "outputs": [
    {
     "name": "stdout",
     "output_type": "stream",
     "text": [
      "<class 'pandas.core.frame.DataFrame'>\n",
      "Int64Index: 30208 entries, 31393 to 476\n",
      "Columns: 2594 entries, host_id to super_strict_60\n",
      "dtypes: datetime64[ns](3), float64(19), int64(10), object(3), uint8(2559)\n",
      "memory usage: 82.0+ MB\n"
     ]
    }
   ],
   "source": []
  },
  {
   "cell_type": "code",
   "execution_count": 38,
   "metadata": {},
   "outputs": [
    {
     "data": {
      "text/plain": [
       "0    10018\n",
       "2    11238\n",
       "3    10029\n",
       "4    10016\n",
       "5    11216\n",
       "Name: zipcode, dtype: object"
      ]
     },
     "execution_count": 38,
     "metadata": {},
     "output_type": "execute_result"
    }
   ],
   "source": []
  },
  {
   "cell_type": "code",
   "execution_count": null,
   "metadata": {},
   "outputs": [],
   "source": []
  }
 ],
 "metadata": {
  "kernelspec": {
   "display_name": "Python 3",
   "language": "python",
   "name": "python3"
  },
  "language_info": {
   "codemirror_mode": {
    "name": "ipython",
    "version": 3
   },
   "file_extension": ".py",
   "mimetype": "text/x-python",
   "name": "python",
   "nbconvert_exporter": "python",
   "pygments_lexer": "ipython3",
   "version": "3.7.3"
  }
 },
 "nbformat": 4,
 "nbformat_minor": 2
}
